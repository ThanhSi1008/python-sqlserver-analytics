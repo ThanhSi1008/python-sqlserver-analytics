{
 "cells": [
  {
   "cell_type": "markdown",
   "metadata": {},
   "source": [
    "# Phân tích Cơ sở dữ liệu SQL Server - Bài 1: Kết nối và Phân tích Cơ bản\n",
    "\n",
    "Notebook này hướng dẫn cách kết nối đến SQL Server và thực hiện các phân tích cơ bản."
   ]
  },
  {
   "cell_type": "markdown",
   "metadata": {},
   "source": [
    "## 🔧 Bước 1: Import thư viện và thiết lập môi trường"
   ]
  },
  {
   "cell_type": "code",
   "execution_count": null,
   "metadata": {},
   "outputs": [],
   "source": [
    "# Import các thư viện cần thiết\n",
    "import sys\n",
    "sys.path.append('/app')\n",
    "\n",
    "import pandas as pd\n",
    "import matplotlib.pyplot as plt\n",
    "import seaborn as sns\n",
    "import numpy as np\n",
    "from datetime import datetime\n",
    "import warnings\n",
    "warnings.filterwarnings('ignore')\n",
    "\n",
    "# Import database helper\n",
    "from db_connection import get_db_connection\n",
    "\n",
    "# Thiết lập style cho biểu đồ\n",
    "plt.style.use('default')\n",
    "sns.set_palette(\"husl\")\n",
    "%matplotlib inline\n",
    "\n",
    "# Thiết lập hiển thị pandas\n",
    "pd.set_option('display.max_columns', None)\n",
    "pd.set_option('display.width', None)\n",
    "pd.set_option('display.max_colwidth', 50)\n",
    "\n",
    "print(\"✅ Đã import thành công tất cả thư viện!\")\n",
    "print(f\"📅 Thời gian chạy: {datetime.now().strftime('%Y-%m-%d %H:%M:%S')}\")"
   ]
  },
  {
   "cell_type": "markdown",
   "metadata": {},
   "source": [
    "## 🔌 Bước 2: Kết nối cơ sở dữ liệu"
   ]
  },
  {
   "cell_type": "code",
   "execution_count": null,
   "metadata": {},
   "outputs": [],
   "source": [
    "# Kết nối đến SQL Server\n",
    "try:\n",
    "    db = get_db_connection()\n",
    "    print(\"✅ Đã kết nối thành công đến SQL Server!\")\n",
    "    \n",
    "    # Kiểm tra kết nối\n",
    "    test_query = \"SELECT @@VERSION as SQLServerVersion\"\n",
    "    version_info = db.query_to_dataframe(test_query)\n",
    "    print(f\"📊 Phiên bản SQL Server: {version_info.iloc[0]['SQLServerVersion'][:50]}...\")\n",
    "    \n",
    "except Exception as e:\n",
    "    print(f\"❌ Lỗi kết nối: {e}\")\n",
    "    raise"
   ]
  },
  {
   "cell_type": "markdown",
   "metadata": {},
   "source": [
    "## 📋 Bước 3: Khám phá cấu trúc cơ sở dữ liệu"
   ]
  },
  {
   "cell_type": "code",
   "execution_count": null,
   "metadata": {},
   "outputs": [],
   "source": [
    "# Xem danh sách bảng\n",
    "tables = db.get_table_info()\n",
    "print(\"📋 Danh sách bảng trong database ShopDB:\")\n",
    "display(tables)\n",
    "\n",
    "print(f\"\\n📊 Tổng số bảng: {len(tables)}\")"
   ]
  },
  {
   "cell_type": "code",
   "execution_count": null,
   "metadata": {},
   "outputs": [],
   "source": [
    "# Xem cấu trúc từng bảng\n",
    "table_names = ['Customers', 'Products', 'Orders', 'OrderDetails']\n",
    "\n",
    "for table_name in table_names:\n",
    "    print(f\"\\n🔍 Cấu trúc bảng {table_name}:\")\n",
    "    table_structure = db.get_table_info(table_name)\n",
    "    display(table_structure)"
   ]
  },
  {
   "cell_type": "markdown",
   "metadata": {},
   "source": [
    "## 📊 Bước 4: Tải và khám phá dữ liệu"
   ]
  },
  {
   "cell_type": "code",
   "execution_count": null,
   "metadata": {},
   "outputs": [],
   "source": [
    "# Tải dữ liệu từ tất cả các bảng\n",
    "print(\"📥 Đang tải dữ liệu từ các bảng...\")\n",
    "\n",
    "customers = db.query_to_dataframe(\"SELECT * FROM Customers\")\n",
    "products = db.query_to_dataframe(\"SELECT * FROM Products\")\n",
    "orders = db.query_to_dataframe(\"SELECT * FROM Orders\")\n",
    "order_details = db.query_to_dataframe(\"SELECT * FROM OrderDetails\")\n",
    "\n",
    "print(\"\\n📊 Thông tin tổng quan về dữ liệu:\")\n",
    "print(f\"👥 Khách hàng: {len(customers)} records\")\n",
    "print(f\"🛍️ Sản phẩm: {len(products)} records\")\n",
    "print(f\"📦 Đơn hàng: {len(orders)} records\")\n",
    "print(f\"📋 Chi tiết đơn hàng: {len(order_details)} records\")\n",
    "\n",
    "print(\"\\n✅ Đã tải thành công tất cả dữ liệu!\")"
   ]
  },
  {
   "cell_type": "code",
   "execution_count": null,
   "metadata": {},
   "outputs": [],
   "source": [
    "# Hiển thị mẫu dữ liệu từ mỗi bảng\n",
    "print(\"👥 Mẫu dữ liệu bảng Customers:\")\n",
    "display(customers.head())\n",
    "print(f\"Thông tin: {customers.shape[0]} khách hàng, {customers.shape[1]} cột\")\n",
    "\n",
    "print(\"\\n🛍️ Mẫu dữ liệu bảng Products:\")\n",
    "display(products.head())\n",
    "print(f\"Thông tin: {products.shape[0]} sản phẩm, {products.shape[1]} cột\")"
   ]
  },
  {
   "cell_type": "code",
   "execution_count": null,
   "metadata": {},
   "outputs": [],
   "source": [
    "print(\"📦 Mẫu dữ liệu bảng Orders:\")\n",
    "display(orders.head())\n",
    "print(f\"Thông tin: {orders.shape[0]} đơn hàng, {orders.shape[1]} cột\")\n",
    "\n",
    "print(\"\\n📋 Mẫu dữ liệu bảng OrderDetails:\")\n",
    "display(order_details.head())\n",
    "print(f\"Thông tin: {order_details.shape[0]} chi tiết đơn hàng, {order_details.shape[1]} cột\")"
   ]
  },
  {
   "cell_type": "markdown",
   "metadata": {},
   "source": [
    "## 📈 Bước 5: Phân tích cơ bản"
   ]
  },
  {
   "cell_type": "code",
   "execution_count": null,
   "metadata": {},
   "outputs": [],
   "source": [
    "# Thống kê cơ bản về khách hàng\n",
    "print(\"👥 PHÂN TÍCH KHÁCH HÀNG\")\n",
    "print(\"=\" * 50)\n",
    "\n",
    "print(f\"📊 Tổng số khách hàng: {len(customers)}\")\n",
    "print(f\"🏙️ Số thành phố: {customers['City'].nunique()}\")\n",
    "print(\"\\n🏙️ Phân bố khách hàng theo thành phố:\")\n",
    "city_distribution = customers['City'].value_counts()\n",
    "display(city_distribution)\n",
    "\n",
    "# Biểu đồ phân bố khách hàng theo thành phố\n",
    "plt.figure(figsize=(10, 6))\n",
    "plt.subplot(1, 2, 1)\n",
    "city_distribution.plot(kind='bar', color='skyblue')\n",
    "plt.title('Số lượng khách hàng theo thành phố')\n",
    "plt.xlabel('Thành phố')\n",
    "plt.ylabel('Số lượng khách hàng')\n",
    "plt.xticks(rotation=45)\n",
    "\n",
    "plt.subplot(1, 2, 2)\n",
    "plt.pie(city_distribution.values, labels=city_distribution.index, autopct='%1.1f%%')\n",
    "plt.title('Tỷ lệ khách hàng theo thành phố')\n",
    "\n",
    "plt.tight_layout()\n",
    "plt.show()"
   ]
  },
  {
   "cell_type": "code",
   "execution_count": null,
   "metadata": {},
   "outputs": [],
   "source": [
    "# Thống kê cơ bản về sản phẩm\n",
    "print(\"🛍️ PHÂN TÍCH SẢN PHẨM\")\n",
    "print(\"=\" * 50)\n",
    "\n",
    "print(f\"📊 Tổng số sản phẩm: {len(products)}\")\n",
    "print(f\"📂 Số danh mục: {products['Category'].nunique()}\")\n",
    "print(f\"💰 Giá trung bình: ${products['Price'].mean():.2f}\")\n",
    "print(f\"💰 Giá cao nhất: ${products['Price'].max():.2f}\")\n",
    "print(f\"💰 Giá thấp nhất: ${products['Price'].min():.2f}\")\n",
    "\n",
    "print(\"\\n📂 Phân bố sản phẩm theo danh mục:\")\n",
    "category_distribution = products['Category'].value_counts()\n",
    "display(category_distribution)\n",
    "\n",
    "# Biểu đồ phân tích sản phẩm\n",
    "plt.figure(figsize=(15, 10))\n",
    "\n",
    "# Phân bố theo danh mục\n",
    "plt.subplot(2, 2, 1)\n",
    "category_distribution.plot(kind='bar', color='lightgreen')\n",
    "plt.title('Số lượng sản phẩm theo danh mục')\n",
    "plt.xlabel('Danh mục')\n",
    "plt.ylabel('Số lượng sản phẩm')\n",
    "plt.xticks(rotation=45)\n",
    "\n",
    "# Phân bố giá\n",
    "plt.subplot(2, 2, 2)\n",
    "plt.hist(products['Price'], bins=10, color='orange', alpha=0.7)\n",
    "plt.title('Phân bố giá sản phẩm')\n",
    "plt.xlabel('Giá ($)')\n",
    "plt.ylabel('Số lượng sản phẩm')\n",
    "\n",
    "# Giá theo danh mục\n",
    "plt.subplot(2, 2, 3)\n",
    "sns.boxplot(data=products, x='Category', y='Price')\n",
    "plt.title('Phân bố giá theo danh mục')\n",
    "plt.xticks(rotation=45)\n",
    "\n",
    "# Top sản phẩm đắt nhất\n",
    "plt.subplot(2, 2, 4)\n",
    "top_expensive = products.nlargest(5, 'Price')\n",
    "plt.barh(top_expensive['ProductName'], top_expensive['Price'], color='red', alpha=0.7)\n",
    "plt.title('Top 5 sản phẩm đắt nhất')\n",
    "plt.xlabel('Giá ($)')\n",
    "\n",
    "plt.tight_layout()\n",
    "plt.show()"
   ]
  },
  {
   "cell_type": "markdown",
   "metadata": {},
   "source": [
    "## 💾 Bước 6: Lưu dữ liệu để phân tích tiếp"
   ]
  },
  {
   "cell_type": "code",
   "execution_count": null,
   "metadata": {},
   "outputs": [],
   "source": [
    "# Tạo thư mục data nếu chưa có\n",
    "import os\n",
    "os.makedirs('/app/data', exist_ok=True)\n",
    "\n",
    "# Lưu dữ liệu ra file CSV\n",
    "customers.to_csv('/app/data/customers.csv', index=False)\n",
    "products.to_csv('/app/data/products.csv', index=False)\n",
    "orders.to_csv('/app/data/orders.csv', index=False)\n",
    "order_details.to_csv('/app/data/order_details.csv', index=False)\n",
    "\n",
    "print(\"✅ Đã lưu tất cả dữ liệu vào thư mục /app/data/\")\n",
    "print(\"📁 Các file đã tạo:\")\n",
    "print(\"   - customers.csv\")\n",
    "print(\"   - products.csv\")\n",
    "print(\"   - orders.csv\")\n",
    "print(\"   - order_details.csv\")"
   ]
  },
  {
   "cell_type": "markdown",
   "metadata": {},
   "source": [
    "## 🔚 Kết thúc"
   ]
  },
  {
   "cell_type": "code",
   "execution_count": null,
   "metadata": {},
   "outputs": [],
   "source": [
    "# Đóng kết nối database\n",
    "db.close()\n",
    "print(\"🔌 Đã đóng kết nối database\")\n",
    "print(\"\\n✅ Hoàn thành notebook phân tích cơ bản!\")\n",
    "print(\"➡️ Tiếp theo: Chạy notebook '02_Advanced_Sales_Analysis.ipynb' để phân tích bán hàng chi tiết\")"
   ]
  }
 ],
 "metadata": {
  "kernelspec": {
   "display_name": "Python 3",
   "language": "python",
   "name": "python3"
  },
  "language_info": {
   "codemirror_mode": {
    "name": "ipython",
    "version": 3
   },
   "file_extension": ".py",
   "mimetype": "text/x-python",
   "name": "python",
   "nbconvert_exporter": "python",
   "pygments_lexer": "ipython3",
   "version": "3.11.0"
  }
 },
 "nbformat": 4,
 "nbformat_minor": 4
}
