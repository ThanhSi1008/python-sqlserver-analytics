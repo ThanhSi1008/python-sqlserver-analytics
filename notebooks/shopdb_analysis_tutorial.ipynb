{
 "cells": [
  {
   "cell_type": "markdown",
   "metadata": {},
   "source": [
    "# ShopDB Data Analysis Tutorial\n",
    "\n",
    "## Overview\n",
    "\n",
    "Welcome to the comprehensive ShopDB data analysis tutorial! This notebook demonstrates how to analyze an e-commerce database using Python, pandas, and SQL Server.\n",
    "\n",
    "### Database Schema\n",
    "\n",
    "**ShopDB** is a sample e-commerce database containing:\n",
    "\n",
    "- **Customers**: Customer information (ID, Name, City, Join Date)\n",
    "- **Products**: Product catalog (ID, Name, Category, Price)\n",
    "- **Orders**: Order records (ID, Customer ID, Order Date)\n",
    "- **OrderDetails**: Order line items (Order ID, Product ID, Quantity)\n",
    "\n",
    "### Business Context\n",
    "\n",
    "This database represents a typical e-commerce platform where:\n",
    "- Customers place orders for various products\n",
    "- Products are categorized (Electronics, Furniture, Lifestyle)\n",
    "- Orders can contain multiple products with different quantities\n",
    "- We can analyze customer behavior, product performance, and sales trends\n",
    "\n",
    "### Learning Objectives\n",
    "\n",
    "By the end of this tutorial, you will be able to:\n",
    "1. Connect to SQL Server databases using Python\n",
    "2. Perform basic to advanced SQL queries\n",
    "3. Use pandas for data manipulation and analysis\n",
    "4. Create meaningful visualizations\n",
    "5. Conduct business intelligence analysis\n",
    "\n",
    "---"
   ]
  },
  {
   "cell_type": "markdown",
   "metadata": {},
   "source": [
    "## 1. Setup & Connection\n",
    "\n",
    "First, let's import the required libraries and establish a connection to our ShopDB database."
   ]
  },
  {
   "cell_type": "code",
   "execution_count": 1,
   "metadata": {},
   "outputs": [
    {
     "name": "stdout",
     "output_type": "stream",
     "text": [
      "✅ All libraries imported successfully!\n",
      "📊 Pandas version: 2.1.1\n",
      "📈 Matplotlib version: 3.8.0\n"
     ]
    }
   ],
   "source": [
    "# Import required libraries\n",
    "import pandas as pd\n",
    "import matplotlib.pyplot as plt\n",
    "import seaborn as sns\n",
    "import numpy as np\n",
    "from datetime import datetime, timedelta\n",
    "import warnings\n",
    "\n",
    "# Import our custom database connection module\n",
    "from db_connection import connect_to_database\n",
    "\n",
    "# Configure display settings\n",
    "pd.set_option('display.max_columns', None)\n",
    "pd.set_option('display.width', None)\n",
    "plt.style.use('default')\n",
    "sns.set_palette(\"husl\")\n",
    "warnings.filterwarnings('ignore')\n",
    "\n",
    "print(\"✅ All libraries imported successfully!\")\n",
    "print(f\"📊 Pandas version: {pd.__version__}\")\n",
    "print(f\"📈 Matplotlib version: {plt.matplotlib.__version__}\")"
   ]
  },
  {
   "cell_type": "code",
   "execution_count": 2,
   "metadata": {},
   "outputs": [
    {
     "name": "stdout",
     "output_type": "stream",
     "text": [
      "[INFO] Connecting to database: ShopDB\n",
      "[INFO] Server: sqlserver:1433\n",
      "[INFO] User: sa\n",
      "[OK] Successfully connected to database: ShopDB\n",
      "✅ Successfully connected to ShopDB!\n",
      "📋 SQL Server Version: Microsoft SQL Server 2022 (RTM-CU21) (KB5065865) -...\n",
      "✅ Connection test completed successfully!\n"
     ]
    }
   ],
   "source": [
    "# Test database connection\n",
    "try:\n",
    "    conn = connect_to_database('ShopDB')\n",
    "    print(\"✅ Successfully connected to ShopDB!\")\n",
    "    \n",
    "    # Test with a simple query\n",
    "    test_query = \"SELECT @@VERSION as SQLServerVersion\"\n",
    "    version_df = pd.read_sql(test_query, conn)\n",
    "    print(f\"📋 SQL Server Version: {version_df.iloc[0]['SQLServerVersion'][:50]}...\")\n",
    "    \n",
    "    conn.close()\n",
    "    print(\"✅ Connection test completed successfully!\")\n",
    "    \n",
    "except Exception as e:\n",
    "    print(f\"❌ Connection failed: {e}\")\n",
    "    print(\"\\n💡 Make sure ShopDB database exists. Create it using the provided SQL script.\")"
   ]
  },
  {
   "cell_type": "markdown",
   "metadata": {},
   "source": [
    "---\n",
    "\n",
    "## 2. Basic Analysis (Beginner Level)\n",
    "\n",
    "Let's start with basic exploration of our database structure and content."
   ]
  },
  {
   "cell_type": "markdown",
   "metadata": {},
   "source": [
    "### 2.1 Database Schema Overview"
   ]
  },
  {
   "cell_type": "code",
   "execution_count": 3,
   "metadata": {},
   "outputs": [
    {
     "name": "stdout",
     "output_type": "stream",
     "text": [
      "[INFO] Connecting to database: ShopDB\n",
      "[INFO] Server: sqlserver:1433\n",
      "[INFO] User: sa\n",
      "[OK] Successfully connected to database: ShopDB\n",
      "📋 Tables in ShopDB database:\n",
      "     TABLE_NAME  TABLE_TYPE\n",
      "0     Customers  BASE TABLE\n",
      "1  OrderDetails  BASE TABLE\n",
      "2        Orders  BASE TABLE\n",
      "3      Products  BASE TABLE\n"
     ]
    }
   ],
   "source": [
    "# Get list of all tables in the database\n",
    "conn = connect_to_database('ShopDB')\n",
    "\n",
    "tables_query = \"\"\"\n",
    "SELECT \n",
    "    TABLE_NAME,\n",
    "    TABLE_TYPE\n",
    "FROM INFORMATION_SCHEMA.TABLES \n",
    "WHERE TABLE_TYPE = 'BASE TABLE'\n",
    "ORDER BY TABLE_NAME\n",
    "\"\"\"\n",
    "\n",
    "tables_df = pd.read_sql(tables_query, conn)\n",
    "print(\"📋 Tables in ShopDB database:\")\n",
    "print(tables_df)\n",
    "\n",
    "conn.close()"
   ]
  },
  {
   "cell_type": "code",
   "execution_count": 4,
   "metadata": {},
   "outputs": [
    {
     "name": "stdout",
     "output_type": "stream",
     "text": [
      "[INFO] Connecting to database: ShopDB\n",
      "[INFO] Server: sqlserver:1433\n",
      "[INFO] User: sa\n",
      "[OK] Successfully connected to database: ShopDB\n",
      "📊 Row counts by table:\n",
      "   Customers: 10 rows\n",
      "   Products: 10 rows\n",
      "   Orders: 14 rows\n",
      "   OrderDetails: 22 rows\n"
     ]
    }
   ],
   "source": [
    "# Get row counts for each table\n",
    "conn = connect_to_database('ShopDB')\n",
    "\n",
    "row_counts = {}\n",
    "tables = ['Customers', 'Products', 'Orders', 'OrderDetails']\n",
    "\n",
    "for table in tables:\n",
    "    count_query = f\"SELECT COUNT(*) as row_count FROM {table}\"\n",
    "    result = pd.read_sql(count_query, conn)\n",
    "    row_counts[table] = result.iloc[0]['row_count']\n",
    "\n",
    "print(\"📊 Row counts by table:\")\n",
    "for table, count in row_counts.items():\n",
    "    print(f\"   {table}: {count:,} rows\")\n",
    "\n",
    "conn.close()"
   ]
  },
  {
   "cell_type": "markdown",
   "metadata": {},
   "source": [
    "### 2.2 Exploring Individual Tables"
   ]
  },
  {
   "cell_type": "code",
   "execution_count": 5,
   "metadata": {},
   "outputs": [
    {
     "name": "stdout",
     "output_type": "stream",
     "text": [
      "[INFO] Connecting to database: ShopDB\n",
      "[INFO] Server: sqlserver:1433\n",
      "[INFO] User: sa\n",
      "[OK] Successfully connected to database: ShopDB\n",
      "👥 Customers Table:\n",
      "   CustomerID  CustomerName         City    JoinDate\n",
      "0           1  Alice Nguyen        Hanoi  2024-01-15\n",
      "1           2      Bob Tran  Ho Chi Minh  2024-02-10\n",
      "2           3    Charlie Le      Da Nang  2024-03-05\n",
      "3           4    David Pham        Hanoi  2024-04-12\n",
      "4           5     Eva Hoang  Ho Chi Minh  2024-05-20\n",
      "5           6      Frank Vu      Da Nang  2024-06-18\n",
      "6           7    Grace Phan        Hanoi  2024-07-01\n",
      "7           8     Henry Bui  Ho Chi Minh  2024-07-15\n",
      "8           9       Ivy Ngo      Da Nang  2024-08-05\n",
      "9          10      Jack Lam        Hanoi  2024-08-20\n",
      "\n",
      "📊 Shape: (10, 4)\n",
      "📊 Data types:\n",
      "CustomerID       int64\n",
      "CustomerName    object\n",
      "City            object\n",
      "JoinDate        object\n",
      "dtype: object\n"
     ]
    }
   ],
   "source": [
    "# Explore Customers table\n",
    "conn = connect_to_database('ShopDB')\n",
    "\n",
    "customers_query = \"SELECT * FROM Customers ORDER BY CustomerID\"\n",
    "customers_df = pd.read_sql(customers_query, conn)\n",
    "\n",
    "print(\"👥 Customers Table:\")\n",
    "print(customers_df)\n",
    "print(f\"\\n📊 Shape: {customers_df.shape}\")\n",
    "print(f\"📊 Data types:\\n{customers_df.dtypes}\")\n",
    "\n",
    "conn.close()"
   ]
  },
  {
   "cell_type": "code",
   "execution_count": 6,
   "metadata": {},
   "outputs": [
    {
     "name": "stdout",
     "output_type": "stream",
     "text": [
      "[INFO] Connecting to database: ShopDB\n",
      "[INFO] Server: sqlserver:1433\n",
      "[INFO] User: sa\n",
      "[OK] Successfully connected to database: ShopDB\n",
      "🛍️ Products Table:\n",
      "   ProductID          ProductName     Category   Price\n",
      "0          1        Laptop Pro 15  Electronics  1200.0\n",
      "1          2       Wireless Mouse  Electronics    25.0\n",
      "2          3         Office Chair    Furniture   150.0\n",
      "3          4         Water Bottle    Lifestyle    12.0\n",
      "4          5        Standing Desk    Furniture   350.0\n",
      "5          6  Keyboard Mechanical  Electronics    80.0\n",
      "6          7            Desk Lamp    Furniture    45.0\n",
      "7          8             Notebook    Lifestyle     5.0\n",
      "8          9      Monitor 27 inch  Electronics   300.0\n",
      "9         10             Backpack    Lifestyle    40.0\n",
      "\n",
      "📊 Shape: (10, 4)\n",
      "\n",
      "💰 Price statistics:\n",
      "count      10.00000\n",
      "mean      220.70000\n",
      "std       364.95572\n",
      "min         5.00000\n",
      "25%        28.75000\n",
      "50%        62.50000\n",
      "75%       262.50000\n",
      "max      1200.00000\n",
      "Name: Price, dtype: float64\n"
     ]
    }
   ],
   "source": [
    "# Explore Products table\n",
    "conn = connect_to_database('ShopDB')\n",
    "\n",
    "products_query = \"SELECT * FROM Products ORDER BY ProductID\"\n",
    "products_df = pd.read_sql(products_query, conn)\n",
    "\n",
    "print(\"🛍️ Products Table:\")\n",
    "print(products_df)\n",
    "print(f\"\\n📊 Shape: {products_df.shape}\")\n",
    "print(f\"\\n💰 Price statistics:\")\n",
    "print(products_df['Price'].describe())\n",
    "\n",
    "conn.close()"
   ]
  },
  {
   "cell_type": "code",
   "execution_count": 7,
   "metadata": {},
   "outputs": [
    {
     "name": "stdout",
     "output_type": "stream",
     "text": [
      "[INFO] Connecting to database: ShopDB\n",
      "[INFO] Server: sqlserver:1433\n",
      "[INFO] User: sa\n",
      "[OK] Successfully connected to database: ShopDB\n",
      "📦 Orders Table (Latest 10):\n",
      "   OrderID  CustomerID   OrderDate\n",
      "0       14          10  2024-09-16\n",
      "1       13           9  2024-09-15\n",
      "2       12           8  2024-09-14\n",
      "3       11           7  2024-09-13\n",
      "4       10           1  2024-09-12\n",
      "5        9           3  2024-09-11\n",
      "6        8           6  2024-09-10\n",
      "7        7           5  2024-09-09\n",
      "8        6           4  2024-09-08\n",
      "9        5           2  2024-09-07\n",
      "\n",
      "📅 Order date range: 2024-09-01 to 2024-09-16\n",
      "📊 Total orders: 14\n"
     ]
    }
   ],
   "source": [
    "# Explore Orders table\n",
    "conn = connect_to_database('ShopDB')\n",
    "\n",
    "orders_query = \"SELECT TOP 10 * FROM Orders ORDER BY OrderDate DESC\"\n",
    "orders_df = pd.read_sql(orders_query, conn)\n",
    "\n",
    "print(\"📦 Orders Table (Latest 10):\")\n",
    "print(orders_df)\n",
    "\n",
    "# Get date range\n",
    "date_range_query = \"\"\"\n",
    "SELECT \n",
    "    MIN(OrderDate) as earliest_order,\n",
    "    MAX(OrderDate) as latest_order,\n",
    "    COUNT(*) as total_orders\n",
    "FROM Orders\n",
    "\"\"\"\n",
    "date_range_df = pd.read_sql(date_range_query, conn)\n",
    "print(f\"\\n📅 Order date range: {date_range_df.iloc[0]['earliest_order']} to {date_range_df.iloc[0]['latest_order']}\")\n",
    "print(f\"📊 Total orders: {date_range_df.iloc[0]['total_orders']}\")\n",
    "\n",
    "conn.close()"
   ]
  },
  {
   "cell_type": "code",
   "execution_count": 8,
   "metadata": {},
   "outputs": [
    {
     "name": "stdout",
     "output_type": "stream",
     "text": [
      "[INFO] Connecting to database: ShopDB\n",
      "[INFO] Server: sqlserver:1433\n",
      "[INFO] User: sa\n",
      "[OK] Successfully connected to database: ShopDB\n",
      "📋 OrderDetails Table (First 10):\n",
      "   OrderDetailID  OrderID  ProductID  Quantity\n",
      "0              1        1          1         1\n",
      "1              2        1          2         2\n",
      "2              3        2          3         1\n",
      "3              4        3          4         3\n",
      "4              5        4          5         1\n",
      "5              6        5          2         5\n",
      "6              7        6          6         1\n",
      "7              8        6          7         2\n",
      "8              9        7          1         1\n",
      "9             10        7          4         1\n",
      "\n",
      "📊 Quantity statistics:\n",
      "   min_quantity  max_quantity  avg_quantity  total_items_sold\n",
      "0             1            10           2.0                44\n"
     ]
    }
   ],
   "source": [
    "# Explore OrderDetails table\n",
    "conn = connect_to_database('ShopDB')\n",
    "\n",
    "order_details_query = \"SELECT TOP 10 * FROM OrderDetails ORDER BY OrderDetailID\"\n",
    "order_details_df = pd.read_sql(order_details_query, conn)\n",
    "\n",
    "print(\"📋 OrderDetails Table (First 10):\")\n",
    "print(order_details_df)\n",
    "\n",
    "# Get quantity statistics\n",
    "quantity_stats_query = \"\"\"\n",
    "SELECT \n",
    "    MIN(Quantity) as min_quantity,\n",
    "    MAX(Quantity) as max_quantity,\n",
    "    AVG(CAST(Quantity as FLOAT)) as avg_quantity,\n",
    "    SUM(Quantity) as total_items_sold\n",
    "FROM OrderDetails\n",
    "\"\"\"\n",
    "quantity_stats_df = pd.read_sql(quantity_stats_query, conn)\n",
    "print(f\"\\n📊 Quantity statistics:\")\n",
    "print(quantity_stats_df)\n",
    "\n",
    "conn.close()"
   ]
  },
  {
   "cell_type": "markdown",
   "metadata": {},
   "source": [
    "### 2.3 Basic Filtering and Sorting Examples"
   ]
  },
  {
   "cell_type": "code",
   "execution_count": 9,
   "metadata": {},
   "outputs": [
    {
     "name": "stdout",
     "output_type": "stream",
     "text": [
      "[INFO] Connecting to database: ShopDB\n",
      "[INFO] Server: sqlserver:1433\n",
      "[INFO] User: sa\n",
      "[OK] Successfully connected to database: ShopDB\n",
      "🏙️ Customers from Hanoi:\n",
      "   CustomerName   City    JoinDate\n",
      "0  Alice Nguyen  Hanoi  2024-01-15\n",
      "1    David Pham  Hanoi  2024-04-12\n",
      "2    Grace Phan  Hanoi  2024-07-01\n",
      "3      Jack Lam  Hanoi  2024-08-20\n"
     ]
    }
   ],
   "source": [
    "# Example 1: Find customers from specific cities\n",
    "conn = connect_to_database('ShopDB')\n",
    "\n",
    "hanoi_customers_query = \"\"\"\n",
    "SELECT CustomerName, City, JoinDate \n",
    "FROM Customers \n",
    "WHERE City = 'Hanoi'\n",
    "ORDER BY JoinDate\n",
    "\"\"\"\n",
    "\n",
    "hanoi_customers = pd.read_sql(hanoi_customers_query, conn)\n",
    "print(\"🏙️ Customers from Hanoi:\")\n",
    "print(hanoi_customers)\n",
    "\n",
    "conn.close()"
   ]
  },
  {
   "cell_type": "code",
   "execution_count": 10,
   "metadata": {},
   "outputs": [
    {
     "name": "stdout",
     "output_type": "stream",
     "text": [
      "[INFO] Connecting to database: ShopDB\n",
      "[INFO] Server: sqlserver:1433\n",
      "[INFO] User: sa\n",
      "[OK] Successfully connected to database: ShopDB\n",
      "💰 Expensive Products (Price > $100):\n",
      "       ProductName     Category   Price\n",
      "0    Laptop Pro 15  Electronics  1200.0\n",
      "1    Standing Desk    Furniture   350.0\n",
      "2  Monitor 27 inch  Electronics   300.0\n",
      "3     Office Chair    Furniture   150.0\n"
     ]
    }
   ],
   "source": [
    "# Example 2: Find expensive products (price > 100)\n",
    "conn = connect_to_database('ShopDB')\n",
    "\n",
    "expensive_products_query = \"\"\"\n",
    "SELECT ProductName, Category, Price \n",
    "FROM Products \n",
    "WHERE Price > 100\n",
    "ORDER BY Price DESC\n",
    "\"\"\"\n",
    "\n",
    "expensive_products = pd.read_sql(expensive_products_query, conn)\n",
    "print(\"💰 Expensive Products (Price > $100):\")\n",
    "print(expensive_products)\n",
    "\n",
    "conn.close()"
   ]
  },
  {
   "cell_type": "code",
   "execution_count": 11,
   "metadata": {},
   "outputs": [
    {
     "name": "stdout",
     "output_type": "stream",
     "text": [
      "[INFO] Connecting to database: ShopDB\n",
      "[INFO] Server: sqlserver:1433\n",
      "[INFO] User: sa\n",
      "[OK] Successfully connected to database: ShopDB\n",
      "📅 Recent Orders (from 2024-09-07):\n",
      "   OrderID  CustomerID   OrderDate\n",
      "0       14          10  2024-09-16\n",
      "1       13           9  2024-09-15\n",
      "2       12           8  2024-09-14\n",
      "3       11           7  2024-09-13\n",
      "4       10           1  2024-09-12\n",
      "5        9           3  2024-09-11\n",
      "6        8           6  2024-09-10\n",
      "7        7           5  2024-09-09\n",
      "8        6           4  2024-09-08\n",
      "9        5           2  2024-09-07\n"
     ]
    }
   ],
   "source": [
    "# Example 3: Find recent orders (last 10 days)\n",
    "conn = connect_to_database('ShopDB')\n",
    "\n",
    "recent_orders_query = \"\"\"\n",
    "SELECT OrderID, CustomerID, OrderDate\n",
    "FROM Orders \n",
    "WHERE OrderDate >= '2024-09-07'\n",
    "ORDER BY OrderDate DESC\n",
    "\"\"\"\n",
    "\n",
    "recent_orders = pd.read_sql(recent_orders_query, conn)\n",
    "print(\"📅 Recent Orders (from 2024-09-07):\")\n",
    "print(recent_orders)\n",
    "\n",
    "conn.close()"
   ]
  },
  {
   "cell_type": "markdown",
   "metadata": {},
   "source": [
    "---\n",
    "\n",
    "## 3. Intermediate Analysis\n",
    "\n",
    "Now let's move to more complex queries involving JOINs, aggregations, and grouping."
   ]
  },
  {
   "cell_type": "markdown",
   "metadata": {},
   "source": [
    "### 3.1 JOIN Operations"
   ]
  },
  {
   "cell_type": "code",
   "execution_count": 12,
   "metadata": {},
   "outputs": [
    {
     "name": "stdout",
     "output_type": "stream",
     "text": [
      "[INFO] Connecting to database: ShopDB\n",
      "[INFO] Server: sqlserver:1433\n",
      "[INFO] User: sa\n",
      "[OK] Successfully connected to database: ShopDB\n",
      "👥📦 Customers with their Orders:\n",
      "   CustomerName         City  OrderID   OrderDate\n",
      "0  Alice Nguyen        Hanoi        1  2024-09-01\n",
      "1  Alice Nguyen        Hanoi        4  2024-09-05\n",
      "2  Alice Nguyen        Hanoi       10  2024-09-12\n",
      "3      Bob Tran  Ho Chi Minh        2  2024-09-02\n",
      "4      Bob Tran  Ho Chi Minh        5  2024-09-07\n",
      "5    Charlie Le      Da Nang        3  2024-09-03\n",
      "6    Charlie Le      Da Nang        9  2024-09-11\n",
      "7    David Pham        Hanoi        6  2024-09-08\n",
      "8     Eva Hoang  Ho Chi Minh        7  2024-09-09\n",
      "9      Frank Vu      Da Nang        8  2024-09-10\n",
      "\n",
      "📊 Total customer-order combinations: 14\n"
     ]
    }
   ],
   "source": [
    "# Example 1: Customers with their orders\n",
    "conn = connect_to_database('ShopDB')\n",
    "\n",
    "customers_orders_query = \"\"\"\n",
    "SELECT \n",
    "    c.CustomerName,\n",
    "    c.City,\n",
    "    o.OrderID,\n",
    "    o.OrderDate\n",
    "FROM Customers c\n",
    "INNER JOIN Orders o ON c.CustomerID = o.CustomerID\n",
    "ORDER BY c.CustomerName, o.OrderDate\n",
    "\"\"\"\n",
    "\n",
    "customers_orders = pd.read_sql(customers_orders_query, conn)\n",
    "print(\"👥📦 Customers with their Orders:\")\n",
    "print(customers_orders.head(10))\n",
    "print(f\"\\n📊 Total customer-order combinations: {len(customers_orders)}\")\n",
    "\n",
    "conn.close()"
   ]
  },
  {
   "cell_type": "code",
   "execution_count": 13,
   "metadata": {},
   "outputs": [
    {
     "name": "stdout",
     "output_type": "stream",
     "text": [
      "[INFO] Connecting to database: ShopDB\n",
      "[INFO] Server: sqlserver:1433\n",
      "[INFO] User: sa\n",
      "[OK] Successfully connected to database: ShopDB\n",
      "📦🛍️ Orders with Product Details:\n",
      "   OrderID   OrderDate          ProductName     Category   Price  Quantity  \\\n",
      "0        1  2024-09-01        Laptop Pro 15  Electronics  1200.0         1   \n",
      "1        1  2024-09-01       Wireless Mouse  Electronics    25.0         2   \n",
      "2        2  2024-09-02         Office Chair    Furniture   150.0         1   \n",
      "3        3  2024-09-03         Water Bottle    Lifestyle    12.0         3   \n",
      "4        4  2024-09-05        Standing Desk    Furniture   350.0         1   \n",
      "5        5  2024-09-07       Wireless Mouse  Electronics    25.0         5   \n",
      "6        6  2024-09-08  Keyboard Mechanical  Electronics    80.0         1   \n",
      "7        6  2024-09-08            Desk Lamp    Furniture    45.0         2   \n",
      "8        7  2024-09-09        Laptop Pro 15  Electronics  1200.0         1   \n",
      "9        7  2024-09-09         Water Bottle    Lifestyle    12.0         1   \n",
      "\n",
      "   LineTotal  \n",
      "0     1200.0  \n",
      "1       50.0  \n",
      "2      150.0  \n",
      "3       36.0  \n",
      "4      350.0  \n",
      "5      125.0  \n",
      "6       80.0  \n",
      "7       90.0  \n",
      "8     1200.0  \n",
      "9       12.0  \n",
      "\n",
      "💰 Sample line totals: $[1200.0, 50.0, 150.0, 36.0, 350.0]\n"
     ]
    }
   ],
   "source": [
    "# Example 2: Orders with product details\n",
    "conn = connect_to_database('ShopDB')\n",
    "\n",
    "orders_products_query = \"\"\"\n",
    "SELECT \n",
    "    o.OrderID,\n",
    "    o.OrderDate,\n",
    "    p.ProductName,\n",
    "    p.Category,\n",
    "    p.Price,\n",
    "    od.Quantity,\n",
    "    (p.Price * od.Quantity) as LineTotal\n",
    "FROM Orders o\n",
    "INNER JOIN OrderDetails od ON o.OrderID = od.OrderID\n",
    "INNER JOIN Products p ON od.ProductID = p.ProductID\n",
    "ORDER BY o.OrderDate, o.OrderID\n",
    "\"\"\"\n",
    "\n",
    "orders_products = pd.read_sql(orders_products_query, conn)\n",
    "print(\"📦🛍️ Orders with Product Details:\")\n",
    "print(orders_products.head(10))\n",
    "print(f\"\\n💰 Sample line totals: ${orders_products['LineTotal'].head().tolist()}\")\n",
    "\n",
    "conn.close()"
   ]
  },
  {
   "cell_type": "markdown",
   "metadata": {},
   "source": [
    "### 3.2 Aggregation Analysis"
   ]
  },
  {
   "cell_type": "code",
   "execution_count": 14,
   "metadata": {},
   "outputs": [
    {
     "name": "stdout",
     "output_type": "stream",
     "text": [
      "[INFO] Connecting to database: ShopDB\n",
      "[INFO] Server: sqlserver:1433\n",
      "[INFO] User: sa\n",
      "[OK] Successfully connected to database: ShopDB\n",
      "👥📊 Customer Order Counts:\n",
      "   CustomerName         City  OrderCount  FirstOrder   LastOrder\n",
      "0  Alice Nguyen        Hanoi           3  2024-09-01  2024-09-12\n",
      "1      Bob Tran  Ho Chi Minh           2  2024-09-02  2024-09-07\n",
      "2    Charlie Le      Da Nang           2  2024-09-03  2024-09-11\n",
      "3    David Pham        Hanoi           1  2024-09-08  2024-09-08\n",
      "4     Eva Hoang  Ho Chi Minh           1  2024-09-09  2024-09-09\n",
      "5      Frank Vu      Da Nang           1  2024-09-10  2024-09-10\n",
      "6    Grace Phan        Hanoi           1  2024-09-13  2024-09-13\n",
      "7     Henry Bui  Ho Chi Minh           1  2024-09-14  2024-09-14\n",
      "8       Ivy Ngo      Da Nang           1  2024-09-15  2024-09-15\n",
      "9      Jack Lam        Hanoi           1  2024-09-16  2024-09-16\n"
     ]
    }
   ],
   "source": [
    "# Example 1: Customer order counts\n",
    "conn = connect_to_database('ShopDB')\n",
    "\n",
    "customer_order_counts_query = \"\"\"\n",
    "SELECT \n",
    "    c.CustomerName,\n",
    "    c.City,\n",
    "    COUNT(o.OrderID) as OrderCount,\n",
    "    MIN(o.OrderDate) as FirstOrder,\n",
    "    MAX(o.OrderDate) as LastOrder\n",
    "FROM Customers c\n",
    "LEFT JOIN Orders o ON c.CustomerID = o.CustomerID\n",
    "GROUP BY c.CustomerID, c.CustomerName, c.City\n",
    "ORDER BY OrderCount DESC, c.CustomerName\n",
    "\"\"\"\n",
    "\n",
    "customer_order_counts = pd.read_sql(customer_order_counts_query, conn)\n",
    "print(\"👥📊 Customer Order Counts:\")\n",
    "print(customer_order_counts)\n",
    "\n",
    "conn.close()"
   ]
  },
  {
   "cell_type": "code",
   "execution_count": 15,
   "metadata": {},
   "outputs": [
    {
     "name": "stdout",
     "output_type": "stream",
     "text": [
      "[INFO] Connecting to database: ShopDB\n",
      "[INFO] Server: sqlserver:1433\n",
      "[INFO] User: sa\n",
      "[OK] Successfully connected to database: ShopDB\n",
      "🏷️📊 Product Category Analysis:\n",
      "      Category  ProductCount    AvgPrice  MinPrice  MaxPrice  \\\n",
      "0    Lifestyle             3   14.333333       5.0      40.0   \n",
      "1  Electronics             4  459.444444      25.0    1200.0   \n",
      "2    Furniture             3  205.714285      45.0     350.0   \n",
      "\n",
      "   TotalQuantitySold  \n",
      "0                 20  \n",
      "1                 15  \n",
      "2                  9  \n"
     ]
    }
   ],
   "source": [
    "# Example 2: Product category analysis\n",
    "conn = connect_to_database('ShopDB')\n",
    "\n",
    "category_analysis_query = \"\"\"\n",
    "SELECT \n",
    "    p.Category,\n",
    "    COUNT(DISTINCT p.ProductID) as ProductCount,\n",
    "    AVG(p.Price) as AvgPrice,\n",
    "    MIN(p.Price) as MinPrice,\n",
    "    MAX(p.Price) as MaxPrice,\n",
    "    SUM(od.Quantity) as TotalQuantitySold\n",
    "FROM Products p\n",
    "LEFT JOIN OrderDetails od ON p.ProductID = od.ProductID\n",
    "GROUP BY p.Category\n",
    "ORDER BY TotalQuantitySold DESC\n",
    "\"\"\"\n",
    "\n",
    "category_analysis = pd.read_sql(category_analysis_query, conn)\n",
    "print(\"🏷️📊 Product Category Analysis:\")\n",
    "print(category_analysis)\n",
    "\n",
    "conn.close()"
   ]
  },
  {
   "cell_type": "code",
   "execution_count": 16,
   "metadata": {},
   "outputs": [
    {
     "name": "stdout",
     "output_type": "stream",
     "text": [
      "[INFO] Connecting to database: ShopDB\n",
      "[INFO] Server: sqlserver:1433\n",
      "[INFO] User: sa\n",
      "[OK] Successfully connected to database: ShopDB\n",
      "🏙️📊 City-wise Customer Distribution:\n",
      "          City  CustomerCount  Percentage\n",
      "0        Hanoi              4        40.0\n",
      "1  Ho Chi Minh              3        30.0\n",
      "2      Da Nang              3        30.0\n"
     ]
    }
   ],
   "source": [
    "# Example 3: City-wise customer distribution\n",
    "conn = connect_to_database('ShopDB')\n",
    "\n",
    "city_distribution_query = \"\"\"\n",
    "SELECT \n",
    "    City,\n",
    "    COUNT(*) as CustomerCount,\n",
    "    COUNT(*) * 100.0 / (SELECT COUNT(*) FROM Customers) as Percentage\n",
    "FROM Customers\n",
    "GROUP BY City\n",
    "ORDER BY CustomerCount DESC\n",
    "\"\"\"\n",
    "\n",
    "city_distribution = pd.read_sql(city_distribution_query, conn)\n",
    "print(\"🏙️📊 City-wise Customer Distribution:\")\n",
    "print(city_distribution)\n",
    "\n",
    "conn.close()"
   ]
  },
  {
   "cell_type": "markdown",
   "metadata": {},
   "source": [
    "### 3.3 Date-based Analysis"
   ]
  },
  {
   "cell_type": "code",
   "execution_count": 17,
   "metadata": {},
   "outputs": [
    {
     "name": "stdout",
     "output_type": "stream",
     "text": [
      "[INFO] Connecting to database: ShopDB\n",
      "[INFO] Server: sqlserver:1433\n",
      "[INFO] User: sa\n",
      "[OK] Successfully connected to database: ShopDB\n",
      "📅📊 Daily Order Trends:\n",
      "     OrderDate  OrderCount  UniqueCustomers\n",
      "0   2024-09-01           1                1\n",
      "1   2024-09-02           1                1\n",
      "2   2024-09-03           1                1\n",
      "3   2024-09-05           1                1\n",
      "4   2024-09-07           1                1\n",
      "5   2024-09-08           1                1\n",
      "6   2024-09-09           1                1\n",
      "7   2024-09-10           1                1\n",
      "8   2024-09-11           1                1\n",
      "9   2024-09-12           1                1\n",
      "10  2024-09-13           1                1\n",
      "11  2024-09-14           1                1\n",
      "12  2024-09-15           1                1\n",
      "13  2024-09-16           1                1\n"
     ]
    }
   ],
   "source": [
    "# Example 1: Daily order trends\n",
    "conn = connect_to_database('ShopDB')\n",
    "\n",
    "daily_orders_query = \"\"\"\n",
    "SELECT \n",
    "    OrderDate,\n",
    "    COUNT(*) as OrderCount,\n",
    "    COUNT(DISTINCT CustomerID) as UniqueCustomers\n",
    "FROM Orders\n",
    "GROUP BY OrderDate\n",
    "ORDER BY OrderDate\n",
    "\"\"\"\n",
    "\n",
    "daily_orders = pd.read_sql(daily_orders_query, conn)\n",
    "print(\"📅📊 Daily Order Trends:\")\n",
    "print(daily_orders)\n",
    "\n",
    "conn.close()"
   ]
  },
  {
   "cell_type": "code",
   "execution_count": 18,
   "metadata": {},
   "outputs": [
    {
     "name": "stdout",
     "output_type": "stream",
     "text": [
      "[INFO] Connecting to database: ShopDB\n",
      "[INFO] Server: sqlserver:1433\n",
      "[INFO] User: sa\n",
      "[OK] Successfully connected to database: ShopDB\n",
      "👥📈 Customer Acquisition Over Time:\n",
      "   JoinYear  JoinMonth  NewCustomers  CumulativeCustomers\n",
      "0      2024          1             1                    1\n",
      "1      2024          2             1                    2\n",
      "2      2024          3             1                    3\n",
      "3      2024          4             1                    4\n",
      "4      2024          5             1                    5\n",
      "5      2024          6             1                    6\n",
      "6      2024          7             2                    8\n",
      "7      2024          8             2                   10\n"
     ]
    }
   ],
   "source": [
    "# Example 2: Customer acquisition over time\n",
    "conn = connect_to_database('ShopDB')\n",
    "\n",
    "customer_acquisition_query = \"\"\"\n",
    "SELECT \n",
    "    YEAR(JoinDate) as JoinYear,\n",
    "    MONTH(JoinDate) as JoinMonth,\n",
    "    COUNT(*) as NewCustomers,\n",
    "    SUM(COUNT(*)) OVER (ORDER BY YEAR(JoinDate), MONTH(JoinDate)) as CumulativeCustomers\n",
    "FROM Customers\n",
    "GROUP BY YEAR(JoinDate), MONTH(JoinDate)\n",
    "ORDER BY JoinYear, JoinMonth\n",
    "\"\"\"\n",
    "\n",
    "customer_acquisition = pd.read_sql(customer_acquisition_query, conn)\n",
    "print(\"👥📈 Customer Acquisition Over Time:\")\n",
    "print(customer_acquisition)\n",
    "\n",
    "conn.close()"
   ]
  },
  {
   "cell_type": "markdown",
   "metadata": {},
   "source": [
    "---\n",
    "\n",
    "## 4. Advanced Analysis\n",
    "\n",
    "Let's dive into complex multi-table analysis, revenue calculations, and customer segmentation."
   ]
  },
  {
   "cell_type": "markdown",
   "metadata": {},
   "source": [
    "### 4.1 Revenue Analysis"
   ]
  },
  {
   "cell_type": "code",
   "execution_count": 19,
   "metadata": {},
   "outputs": [
    {
     "name": "stdout",
     "output_type": "stream",
     "text": [
      "[INFO] Connecting to database: ShopDB\n",
      "[INFO] Server: sqlserver:1433\n",
      "[INFO] User: sa\n",
      "[OK] Successfully connected to database: ShopDB\n",
      "💰📊 Customer Revenue Analysis:\n",
      "   CustomerName         City  OrderCount  TotalItemsPurchased  TotalRevenue  \\\n",
      "0     Henry Bui  Ho Chi Minh           1                    3        2550.0   \n",
      "1  Alice Nguyen        Hanoi           3                    6        1705.0   \n",
      "2     Eva Hoang  Ho Chi Minh           1                    2        1212.0   \n",
      "3      Frank Vu      Da Nang           1                    2         700.0   \n",
      "4    Grace Phan        Hanoi           1                    3         380.0   \n",
      "5      Jack Lam        Hanoi           1                    3         360.0   \n",
      "6      Bob Tran  Ho Chi Minh           2                    6         275.0   \n",
      "7    David Pham        Hanoi           1                    3         170.0   \n",
      "8    Charlie Le      Da Nang           2                   13          86.0   \n",
      "9       Ivy Ngo      Da Nang           1                    3          69.0   \n",
      "\n",
      "   AvgOrderValue FirstPurchase LastPurchase  \n",
      "0         1275.0    2024-09-14   2024-09-14  \n",
      "1          341.0    2024-09-01   2024-09-12  \n",
      "2          606.0    2024-09-09   2024-09-09  \n",
      "3          700.0    2024-09-10   2024-09-10  \n",
      "4          190.0    2024-09-13   2024-09-13  \n",
      "5          180.0    2024-09-16   2024-09-16  \n",
      "6          137.5    2024-09-02   2024-09-07  \n",
      "7           85.0    2024-09-08   2024-09-08  \n",
      "8           43.0    2024-09-03   2024-09-11  \n",
      "9           34.5    2024-09-15   2024-09-15  \n",
      "\n",
      "📈 Revenue Summary:\n",
      "   Total Revenue: $7,507.00\n",
      "   Average Customer Value: $750.70\n",
      "   Top Customer Revenue: $2,550.00\n"
     ]
    }
   ],
   "source": [
    "# Comprehensive revenue analysis\n",
    "conn = connect_to_database('ShopDB')\n",
    "\n",
    "revenue_analysis_query = \"\"\"\n",
    "SELECT \n",
    "    c.CustomerName,\n",
    "    c.City,\n",
    "    COUNT(DISTINCT o.OrderID) as OrderCount,\n",
    "    SUM(od.Quantity) as TotalItemsPurchased,\n",
    "    SUM(p.Price * od.Quantity) as TotalRevenue,\n",
    "    AVG(p.Price * od.Quantity) as AvgOrderValue,\n",
    "    MIN(o.OrderDate) as FirstPurchase,\n",
    "    MAX(o.OrderDate) as LastPurchase\n",
    "FROM Customers c\n",
    "INNER JOIN Orders o ON c.CustomerID = o.CustomerID\n",
    "INNER JOIN OrderDetails od ON o.OrderID = od.OrderID\n",
    "INNER JOIN Products p ON od.ProductID = p.ProductID\n",
    "GROUP BY c.CustomerID, c.CustomerName, c.City\n",
    "ORDER BY TotalRevenue DESC\n",
    "\"\"\"\n",
    "\n",
    "revenue_analysis = pd.read_sql(revenue_analysis_query, conn)\n",
    "print(\"💰📊 Customer Revenue Analysis:\")\n",
    "print(revenue_analysis)\n",
    "\n",
    "print(f\"\\n📈 Revenue Summary:\")\n",
    "print(f\"   Total Revenue: ${revenue_analysis['TotalRevenue'].sum():,.2f}\")\n",
    "print(f\"   Average Customer Value: ${revenue_analysis['TotalRevenue'].mean():,.2f}\")\n",
    "print(f\"   Top Customer Revenue: ${revenue_analysis['TotalRevenue'].max():,.2f}\")\n",
    "\n",
    "conn.close()"
   ]
  },
  {
   "cell_type": "code",
   "execution_count": 20,
   "metadata": {},
   "outputs": [
    {
     "name": "stdout",
     "output_type": "stream",
     "text": [
      "[INFO] Connecting to database: ShopDB\n",
      "[INFO] Server: sqlserver:1433\n",
      "[INFO] User: sa\n",
      "[OK] Successfully connected to database: ShopDB\n",
      "🛍️📊 Product Performance Analysis:\n",
      "           ProductName     Category   Price  TotalQuantitySold  TotalRevenue  \\\n",
      "0        Laptop Pro 15  Electronics  1200.0                  4        4800.0   \n",
      "1        Standing Desk    Furniture   350.0                  4        1400.0   \n",
      "2         Office Chair    Furniture   150.0                  2         300.0   \n",
      "3      Monitor 27 inch  Electronics   300.0                  1         300.0   \n",
      "4       Wireless Mouse  Electronics    25.0                  8         200.0   \n",
      "5  Keyboard Mechanical  Electronics    80.0                  2         160.0   \n",
      "6            Desk Lamp    Furniture    45.0                  3         135.0   \n",
      "7             Backpack    Lifestyle    40.0                  2          80.0   \n",
      "8         Water Bottle    Lifestyle    12.0                  6          72.0   \n",
      "9             Notebook    Lifestyle     5.0                 12          60.0   \n",
      "\n",
      "   OrdersContaining PerformanceCategory  \n",
      "0                 3    Medium Performer  \n",
      "1                 3    Medium Performer  \n",
      "2                 2    Medium Performer  \n",
      "3                 1       Low Performer  \n",
      "4                 3      High Performer  \n",
      "5                 2    Medium Performer  \n",
      "6                 2    Medium Performer  \n",
      "7                 1    Medium Performer  \n",
      "8                 3      High Performer  \n",
      "9                 2      High Performer  \n"
     ]
    }
   ],
   "source": [
    "# Product performance analysis\n",
    "conn = connect_to_database('ShopDB')\n",
    "\n",
    "product_performance_query = \"\"\"\n",
    "SELECT \n",
    "    p.ProductName,\n",
    "    p.Category,\n",
    "    p.Price,\n",
    "    COALESCE(SUM(od.Quantity), 0) as TotalQuantitySold,\n",
    "    COALESCE(SUM(p.Price * od.Quantity), 0) as TotalRevenue,\n",
    "    COALESCE(COUNT(DISTINCT od.OrderID), 0) as OrdersContaining,\n",
    "    CASE \n",
    "        WHEN SUM(od.Quantity) IS NULL THEN 'No Sales'\n",
    "        WHEN SUM(od.Quantity) >= 5 THEN 'High Performer'\n",
    "        WHEN SUM(od.Quantity) >= 2 THEN 'Medium Performer'\n",
    "        ELSE 'Low Performer'\n",
    "    END as PerformanceCategory\n",
    "FROM Products p\n",
    "LEFT JOIN OrderDetails od ON p.ProductID = od.ProductID\n",
    "GROUP BY p.ProductID, p.ProductName, p.Category, p.Price\n",
    "ORDER BY TotalRevenue DESC\n",
    "\"\"\"\n",
    "\n",
    "product_performance = pd.read_sql(product_performance_query, conn)\n",
    "print(\"🛍️📊 Product Performance Analysis:\")\n",
    "print(product_performance)\n",
    "\n",
    "conn.close()"
   ]
  },
  {
   "cell_type": "markdown",
   "metadata": {},
   "source": [
    "### 4.2 Customer Segmentation (RFM Analysis)"
   ]
  },
  {
   "cell_type": "code",
   "execution_count": 21,
   "metadata": {},
   "outputs": [
    {
     "name": "stdout",
     "output_type": "stream",
     "text": [
      "[INFO] Connecting to database: ShopDB\n",
      "[INFO] Server: sqlserver:1433\n",
      "[INFO] User: sa\n",
      "[OK] Successfully connected to database: ShopDB\n",
      "🎯📊 RFM Customer Segmentation:\n",
      "   CustomerID  CustomerName         City  Recency  Frequency  Monetary  \\\n",
      "0           8     Henry Bui  Ho Chi Minh        6          1    2550.0   \n",
      "1           1  Alice Nguyen        Hanoi        8          3    1705.0   \n",
      "2           5     Eva Hoang  Ho Chi Minh       11          1    1212.0   \n",
      "3           6      Frank Vu      Da Nang       10          1     700.0   \n",
      "4           7    Grace Phan        Hanoi        7          1     380.0   \n",
      "5          10      Jack Lam        Hanoi        4          1     360.0   \n",
      "6           2      Bob Tran  Ho Chi Minh       13          2     275.0   \n",
      "7           4    David Pham        Hanoi       12          1     170.0   \n",
      "8           3    Charlie Le      Da Nang        9          2      86.0   \n",
      "9           9       Ivy Ngo      Da Nang        5          1      69.0   \n",
      "\n",
      "   R_Score  F_Score  M_Score  CustomerSegment  \n",
      "0        4        3        5  Loyal Customers  \n",
      "1        4        5        5        Champions  \n",
      "2        3        3        5  Loyal Customers  \n",
      "3        4        3        4  Loyal Customers  \n",
      "4        4        3        3  Loyal Customers  \n",
      "5        5        3        3  Loyal Customers  \n",
      "6        3        4        3  Loyal Customers  \n",
      "7        3        3        2           Others  \n",
      "8        4        4        2           Others  \n",
      "9        5        3        2           Others  \n",
      "\n",
      "🎯📈 Customer Segment Summary:\n",
      "                CustomerID Monetary         Frequency Recency\n",
      "                     count     mean     sum      mean    mean\n",
      "CustomerSegment                                              \n",
      "Champions                1  1705.00  1705.0      3.00    8.00\n",
      "Loyal Customers          6   912.83  5477.0      1.17    8.50\n",
      "Others                   3   108.33   325.0      1.33    8.67\n"
     ]
    }
   ],
   "source": [
    "# RFM Analysis (Recency, Frequency, Monetary)\n",
    "conn = connect_to_database('ShopDB')\n",
    "\n",
    "rfm_query = \"\"\"\n",
    "WITH CustomerRFM AS (\n",
    "    SELECT \n",
    "        c.CustomerID,\n",
    "        c.CustomerName,\n",
    "        c.City,\n",
    "        DATEDIFF(day, MAX(o.OrderDate), '2024-09-20') as Recency,\n",
    "        COUNT(DISTINCT o.OrderID) as Frequency,\n",
    "        SUM(p.Price * od.Quantity) as Monetary\n",
    "    FROM Customers c\n",
    "    INNER JOIN Orders o ON c.CustomerID = o.CustomerID\n",
    "    INNER JOIN OrderDetails od ON o.OrderID = od.OrderID\n",
    "    INNER JOIN Products p ON od.ProductID = p.ProductID\n",
    "    GROUP BY c.CustomerID, c.CustomerName, c.City\n",
    "),\n",
    "RFMScores AS (\n",
    "    SELECT *,\n",
    "        CASE \n",
    "            WHEN Recency <= 5 THEN 5\n",
    "            WHEN Recency <= 10 THEN 4\n",
    "            WHEN Recency <= 15 THEN 3\n",
    "            WHEN Recency <= 20 THEN 2\n",
    "            ELSE 1\n",
    "        END as R_Score,\n",
    "        CASE \n",
    "            WHEN Frequency >= 3 THEN 5\n",
    "            WHEN Frequency >= 2 THEN 4\n",
    "            WHEN Frequency >= 1 THEN 3\n",
    "            ELSE 1\n",
    "        END as F_Score,\n",
    "        CASE \n",
    "            WHEN Monetary >= 1000 THEN 5\n",
    "            WHEN Monetary >= 500 THEN 4\n",
    "            WHEN Monetary >= 200 THEN 3\n",
    "            WHEN Monetary >= 50 THEN 2\n",
    "            ELSE 1\n",
    "        END as M_Score\n",
    "    FROM CustomerRFM\n",
    ")\n",
    "SELECT *,\n",
    "    CASE \n",
    "        WHEN R_Score >= 4 AND F_Score >= 4 AND M_Score >= 4 THEN 'Champions'\n",
    "        WHEN R_Score >= 3 AND F_Score >= 3 AND M_Score >= 3 THEN 'Loyal Customers'\n",
    "        WHEN R_Score >= 3 AND F_Score <= 2 THEN 'Potential Loyalists'\n",
    "        WHEN R_Score <= 2 AND F_Score >= 3 THEN 'At Risk'\n",
    "        WHEN R_Score <= 2 AND F_Score <= 2 AND M_Score >= 3 THEN 'Cannot Lose Them'\n",
    "        ELSE 'Others'\n",
    "    END as CustomerSegment\n",
    "FROM RFMScores\n",
    "ORDER BY Monetary DESC\n",
    "\"\"\"\n",
    "\n",
    "rfm_analysis = pd.read_sql(rfm_query, conn)\n",
    "print(\"🎯📊 RFM Customer Segmentation:\")\n",
    "print(rfm_analysis)\n",
    "\n",
    "# Segment summary\n",
    "segment_summary = rfm_analysis.groupby('CustomerSegment').agg({\n",
    "    'CustomerID': 'count',\n",
    "    'Monetary': ['mean', 'sum'],\n",
    "    'Frequency': 'mean',\n",
    "    'Recency': 'mean'\n",
    "}).round(2)\n",
    "\n",
    "print(\"\\n🎯📈 Customer Segment Summary:\")\n",
    "print(segment_summary)\n",
    "\n",
    "conn.close()"
   ]
  },
  {
   "cell_type": "markdown",
   "metadata": {},
   "source": [
    "---\n",
    "\n",
    "## 5. Data Visualization\n",
    "\n",
    "Let's create meaningful visualizations to better understand our data."
   ]
  },
  {
   "cell_type": "markdown",
   "metadata": {},
   "source": [
    "### 5.1 Revenue and Customer Analysis Charts"
   ]
  },
  {
   "cell_type": "code",
   "execution_count": 22,
   "metadata": {},
   "outputs": [
    {
     "name": "stdout",
     "output_type": "stream",
     "text": [
      "[INFO] Connecting to database: ShopDB\n",
      "[INFO] Server: sqlserver:1433\n",
      "[INFO] User: sa\n",
      "[OK] Successfully connected to database: ShopDB\n"
     ]
    },
    {
     "data": {
      "image/png": "[encoded data removed]",
      "text/plain": [
       "<Figure size 1200x600 with 1 Axes>"
      ]
     },
     "metadata": {},
     "output_type": "display_data"
    }
   ],
   "source": [
    "# Top 10 customers by revenue\n",
    "conn = connect_to_database('ShopDB')\n",
    "\n",
    "top_customers_query = \"\"\"\n",
    "SELECT TOP 10\n",
    "    c.CustomerName,\n",
    "    SUM(p.Price * od.Quantity) as TotalRevenue\n",
    "FROM Customers c\n",
    "INNER JOIN Orders o ON c.CustomerID = o.CustomerID\n",
    "INNER JOIN OrderDetails od ON o.OrderID = od.OrderID\n",
    "INNER JOIN Products p ON od.ProductID = p.ProductID\n",
    "GROUP BY c.CustomerID, c.CustomerName\n",
    "ORDER BY TotalRevenue DESC\n",
    "\"\"\"\n",
    "\n",
    "top_customers = pd.read_sql(top_customers_query, conn)\n",
    "\n",
    "# Create visualization\n",
    "plt.figure(figsize=(12, 6))\n",
    "bars = plt.bar(range(len(top_customers)), top_customers['TotalRevenue'], \n",
    "               color='skyblue', edgecolor='navy', alpha=0.7)\n",
    "plt.title('Top 10 Customers by Revenue', fontsize=16, fontweight='bold')\n",
    "plt.xlabel('Customers', fontsize=12)\n",
    "plt.ylabel('Total Revenue ($)', fontsize=12)\n",
    "plt.xticks(range(len(top_customers)), top_customers['CustomerName'], rotation=45, ha='right')\n",
    "\n",
    "# Add value labels on bars\n",
    "for i, bar in enumerate(bars):\n",
    "    height = bar.get_height()\n",
    "    plt.text(bar.get_x() + bar.get_width()/2., height + 10,\n",
    "             f'${height:.0f}', ha='center', va='bottom', fontweight='bold')\n",
    "\n",
    "plt.tight_layout()\n",
    "plt.grid(axis='y', alpha=0.3)\n",
    "plt.show()\n",
    "\n",
    "conn.close()"
   ]
  },
  {
   "cell_type": "code",
   "execution_count": 23,
   "metadata": {},
   "outputs": [
    {
     "name": "stdout",
     "output_type": "stream",
     "text": [
      "[INFO] Connecting to database: ShopDB\n",
      "[INFO] Server: sqlserver:1433\n",
      "[INFO] User: sa\n",
      "[OK] Successfully connected to database: ShopDB\n"
     ]
    },
    {
     "data": {
      "image/png": "[encoded data removed]",
      "text/plain": [
       "<Figure size 1000x800 with 1 Axes>"
      ]
     },
     "metadata": {},
     "output_type": "display_data"
    },
    {
     "name": "stdout",
     "output_type": "stream",
     "text": [
      "📊 Category Sales Summary:\n",
      "      Category  TotalRevenue  TotalQuantity  OrderCount\n",
      "0  Electronics        5460.0             15           7\n",
      "1    Furniture        1835.0              9           7\n",
      "2    Lifestyle         212.0             20           6\n"
     ]
    }
   ],
   "source": [
    "# Sales by product category\n",
    "conn = connect_to_database('ShopDB')\n",
    "\n",
    "category_sales_query = \"\"\"\n",
    "SELECT \n",
    "    p.Category,\n",
    "    SUM(p.Price * od.Quantity) as TotalRevenue,\n",
    "    SUM(od.Quantity) as TotalQuantity,\n",
    "    COUNT(DISTINCT od.OrderID) as OrderCount\n",
    "FROM Products p\n",
    "INNER JOIN OrderDetails od ON p.ProductID = od.ProductID\n",
    "GROUP BY p.Category\n",
    "ORDER BY TotalRevenue DESC\n",
    "\"\"\"\n",
    "\n",
    "category_sales = pd.read_sql(category_sales_query, conn)\n",
    "\n",
    "# Create pie chart\n",
    "plt.figure(figsize=(10, 8))\n",
    "colors = ['#ff9999', '#66b3ff', '#99ff99']\n",
    "wedges, texts, autotexts = plt.pie(category_sales['TotalRevenue'], \n",
    "                                   labels=category_sales['Category'],\n",
    "                                   autopct='%1.1f%%',\n",
    "                                   colors=colors,\n",
    "                                   explode=(0.05, 0.05, 0.05),\n",
    "                                   shadow=True,\n",
    "                                   startangle=90)\n",
    "\n",
    "plt.title('Revenue Distribution by Product Category', fontsize=16, fontweight='bold')\n",
    "\n",
    "# Add revenue values to labels\n",
    "for i, (category, revenue) in enumerate(zip(category_sales['Category'], category_sales['TotalRevenue'])):\n",
    "    autotexts[i].set_text(f'{autotexts[i].get_text()}\\n${revenue:.0f}')\n",
    "    autotexts[i].set_fontweight('bold')\n",
    "\n",
    "plt.axis('equal')\n",
    "plt.show()\n",
    "\n",
    "print(\"📊 Category Sales Summary:\")\n",
    "print(category_sales)\n",
    "\n",
    "conn.close()"
   ]
  },
  {
   "cell_type": "code",
   "execution_count": 24,
   "metadata": {},
   "outputs": [
    {
     "name": "stdout",
     "output_type": "stream",
     "text": [
      "[INFO] Connecting to database: ShopDB\n",
      "[INFO] Server: sqlserver:1433\n",
      "[INFO] User: sa\n",
      "[OK] Successfully connected to database: ShopDB\n"
     ]
    },
    {
     "data": {
      "image/png": "[encoded data removed]",
      "text/plain": [
       "<Figure size 1200x1000 with 2 Axes>"
      ]
     },
     "metadata": {},
     "output_type": "display_data"
    }
   ],
   "source": [
    "# Daily order trends\n",
    "conn = connect_to_database('ShopDB')\n",
    "\n",
    "daily_trends_query = \"\"\"\n",
    "SELECT \n",
    "    OrderDate,\n",
    "    COUNT(*) as OrderCount,\n",
    "    SUM(od.Quantity * p.Price) as DailyRevenue\n",
    "FROM Orders o\n",
    "INNER JOIN OrderDetails od ON o.OrderID = od.OrderID\n",
    "INNER JOIN Products p ON od.ProductID = p.ProductID\n",
    "GROUP BY OrderDate\n",
    "ORDER BY OrderDate\n",
    "\"\"\"\n",
    "\n",
    "daily_trends = pd.read_sql(daily_trends_query, conn)\n",
    "daily_trends['OrderDate'] = pd.to_datetime(daily_trends['OrderDate'])\n",
    "\n",
    "# Create line chart\n",
    "fig, (ax1, ax2) = plt.subplots(2, 1, figsize=(12, 10))\n",
    "\n",
    "# Orders trend\n",
    "ax1.plot(daily_trends['OrderDate'], daily_trends['OrderCount'], \n",
    "         marker='o', linewidth=2, markersize=6, color='blue')\n",
    "ax1.set_title('Daily Order Count Trend', fontsize=14, fontweight='bold')\n",
    "ax1.set_ylabel('Number of Orders')\n",
    "ax1.grid(True, alpha=0.3)\n",
    "ax1.tick_params(axis='x', rotation=45)\n",
    "\n",
    "# Revenue trend\n",
    "ax2.plot(daily_trends['OrderDate'], daily_trends['DailyRevenue'], \n",
    "         marker='s', linewidth=2, markersize=6, color='green')\n",
    "ax2.set_title('Daily Revenue Trend', fontsize=14, fontweight='bold')\n",
    "ax2.set_ylabel('Revenue ($)')\n",
    "ax2.set_xlabel('Date')\n",
    "ax2.grid(True, alpha=0.3)\n",
    "ax2.tick_params(axis='x', rotation=45)\n",
    "\n",
    "plt.tight_layout()\n",
    "plt.show()\n",
    "\n",
    "conn.close()"
   ]
  },
  {
   "cell_type": "code",
   "execution_count": 25,
   "metadata": {},
   "outputs": [
    {
     "name": "stdout",
     "output_type": "stream",
     "text": [
      "[INFO] Connecting to database: ShopDB\n",
      "[INFO] Server: sqlserver:1433\n",
      "[INFO] User: sa\n",
      "[OK] Successfully connected to database: ShopDB\n"
     ]
    },
    {
     "data": {
      "image/png": "[encoded data removed]",
      "text/plain": [
       "<Figure size 1000x600 with 1 Axes>"
      ]
     },
     "metadata": {},
     "output_type": "display_data"
    }
   ],
   "source": [
    "# City-wise customer distribution\n",
    "conn = connect_to_database('ShopDB')\n",
    "\n",
    "city_customers_query = \"\"\"\n",
    "SELECT \n",
    "    City,\n",
    "    COUNT(*) as CustomerCount\n",
    "FROM Customers\n",
    "GROUP BY City\n",
    "ORDER BY CustomerCount DESC\n",
    "\"\"\"\n",
    "\n",
    "city_customers = pd.read_sql(city_customers_query, conn)\n",
    "\n",
    "# Create horizontal bar chart\n",
    "plt.figure(figsize=(10, 6))\n",
    "bars = plt.barh(city_customers['City'], city_customers['CustomerCount'], \n",
    "                color=['#ff7f0e', '#2ca02c', '#d62728'])\n",
    "plt.title('Customer Distribution by City', fontsize=16, fontweight='bold')\n",
    "plt.xlabel('Number of Customers')\n",
    "plt.ylabel('City')\n",
    "\n",
    "# Add value labels\n",
    "for i, bar in enumerate(bars):\n",
    "    width = bar.get_width()\n",
    "    plt.text(width + 0.1, bar.get_y() + bar.get_height()/2,\n",
    "             f'{int(width)}', ha='left', va='center', fontweight='bold')\n",
    "\n",
    "plt.grid(axis='x', alpha=0.3)\n",
    "plt.tight_layout()\n",
    "plt.show()\n",
    "\n",
    "conn.close()"
   ]
  },
  {
   "cell_type": "markdown",
   "metadata": {},
   "source": [
    "### 5.2 Advanced Visualizations"
   ]
  },
  {
   "cell_type": "code",
   "execution_count": 26,
   "metadata": {},
   "outputs": [
    {
     "name": "stdout",
     "output_type": "stream",
     "text": [
      "[INFO] Connecting to database: ShopDB\n",
      "[INFO] Server: sqlserver:1433\n",
      "[INFO] User: sa\n",
      "[OK] Successfully connected to database: ShopDB\n"
     ]
    },
    {
     "data": {
      "image/png": "[encoded data removed]",
      "text/plain": [
       "<Figure size 1200x800 with 2 Axes>"
      ]
     },
     "metadata": {},
     "output_type": "display_data"
    }
   ],
   "source": [
    "# Customer segmentation visualization\n",
    "conn = connect_to_database('ShopDB')\n",
    "\n",
    "# Get RFM data for visualization\n",
    "rfm_viz_query = \"\"\"\n",
    "SELECT \n",
    "    c.CustomerName,\n",
    "    COUNT(DISTINCT o.OrderID) as Frequency,\n",
    "    SUM(p.Price * od.Quantity) as Monetary,\n",
    "    DATEDIFF(day, MAX(o.OrderDate), '2024-09-20') as Recency\n",
    "FROM Customers c\n",
    "INNER JOIN Orders o ON c.CustomerID = o.CustomerID\n",
    "INNER JOIN OrderDetails od ON o.OrderID = od.OrderID\n",
    "INNER JOIN Products p ON od.ProductID = p.ProductID\n",
    "GROUP BY c.CustomerID, c.CustomerName\n",
    "\"\"\"\n",
    "\n",
    "rfm_viz = pd.read_sql(rfm_viz_query, conn)\n",
    "\n",
    "# Create scatter plot\n",
    "plt.figure(figsize=(12, 8))\n",
    "scatter = plt.scatter(rfm_viz['Frequency'], rfm_viz['Monetary'], \n",
    "                     c=rfm_viz['Recency'], s=100, alpha=0.7, \n",
    "                     cmap='RdYlBu_r', edgecolors='black')\n",
    "\n",
    "plt.title('Customer Segmentation: Frequency vs Monetary (Color = Recency)', \n",
    "          fontsize=14, fontweight='bold')\n",
    "plt.xlabel('Frequency (Number of Orders)')\n",
    "plt.ylabel('Monetary Value ($)')\n",
    "\n",
    "# Add colorbar\n",
    "cbar = plt.colorbar(scatter)\n",
    "cbar.set_label('Recency (Days since last order)', rotation=270, labelpad=20)\n",
    "\n",
    "# Add customer names as annotations\n",
    "for i, name in enumerate(rfm_viz['CustomerName']):\n",
    "    plt.annotate(name.split()[0], (rfm_viz['Frequency'].iloc[i], rfm_viz['Monetary'].iloc[i]),\n",
    "                xytext=(5, 5), textcoords='offset points', fontsize=8)\n",
    "\n",
    "plt.grid(True, alpha=0.3)\n",
    "plt.tight_layout()\n",
    "plt.show()\n",
    "\n",
    "conn.close()"
   ]
  },
  {
   "cell_type": "markdown",
   "metadata": {},
   "source": [
    "---\n",
    "\n",
    "## 6. Best Practices & Tips\n",
    "\n",
    "Here are important best practices for database analysis with Python."
   ]
  },
  {
   "cell_type": "markdown",
   "metadata": {},
   "source": [
    "### 6.1 Connection Management"
   ]
  },
  {
   "cell_type": "code",
   "execution_count": 27,
   "metadata": {},
   "outputs": [
    {
     "name": "stdout",
     "output_type": "stream",
     "text": [
      "[INFO] Connecting to database: ShopDB\n",
      "[INFO] Server: sqlserver:1433\n",
      "[INFO] User: sa\n",
      "[OK] Successfully connected to database: ShopDB\n",
      "✅ Connection closed safely\n",
      "Total customers: 10\n"
     ]
    }
   ],
   "source": [
    "# ✅ GOOD: Always close connections\n",
    "def safe_query_example():\n",
    "    conn = None\n",
    "    try:\n",
    "        conn = connect_to_database('ShopDB')\n",
    "        query = \"SELECT COUNT(*) as total_customers FROM Customers\"\n",
    "        result = pd.read_sql(query, conn)\n",
    "        return result\n",
    "    except Exception as e:\n",
    "        print(f\"Error occurred: {e}\")\n",
    "        return None\n",
    "    finally:\n",
    "        if conn:\n",
    "            conn.close()\n",
    "            print(\"✅ Connection closed safely\")\n",
    "\n",
    "# Test the function\n",
    "result = safe_query_example()\n",
    "if result is not None:\n",
    "    print(f\"Total customers: {result.iloc[0]['total_customers']}\")"
   ]
  },
  {
   "cell_type": "code",
   "execution_count": 28,
   "metadata": {},
   "outputs": [
    {
     "name": "stdout",
     "output_type": "stream",
     "text": [
      "[INFO] Connecting to database: ShopDB\n",
      "[INFO] Server: sqlserver:1433\n",
      "[INFO] User: sa\n",
      "[OK] Successfully connected to database: ShopDB\n",
      "Sample customers:\n",
      "   CustomerName\n",
      "0  Alice Nguyen\n",
      "1      Bob Tran\n",
      "2    Charlie Le\n",
      "✅ Connection closed automatically\n"
     ]
    }
   ],
   "source": [
    "# ✅ GOOD: Using context manager (alternative approach)\n",
    "class DatabaseConnection:\n",
    "    def __init__(self, database_name):\n",
    "        self.database_name = database_name\n",
    "        self.conn = None\n",
    "    \n",
    "    def __enter__(self):\n",
    "        self.conn = connect_to_database(self.database_name)\n",
    "        return self.conn\n",
    "    \n",
    "    def __exit__(self, exc_type, exc_val, exc_tb):\n",
    "        if self.conn:\n",
    "            self.conn.close()\n",
    "            print(\"✅ Connection closed automatically\")\n",
    "\n",
    "# Usage example\n",
    "with DatabaseConnection('ShopDB') as conn:\n",
    "    query = \"SELECT TOP 3 CustomerName FROM Customers ORDER BY CustomerID\"\n",
    "    customers = pd.read_sql(query, conn)\n",
    "    print(\"Sample customers:\")\n",
    "    print(customers)"
   ]
  },
  {
   "cell_type": "markdown",
   "metadata": {},
   "source": [
    "### 6.2 Error Handling Examples"
   ]
  },
  {
   "cell_type": "code",
   "execution_count": 29,
   "metadata": {},
   "outputs": [
    {
     "name": "stdout",
     "output_type": "stream",
     "text": [
      "[INFO] Connecting to database: ShopDB\n",
      "[INFO] Server: sqlserver:1433\n",
      "[INFO] User: sa\n",
      "[OK] Successfully connected to database: ShopDB\n",
      "✅ Connected to database\n",
      "✅ Query executed successfully, 10 rows returned\n",
      "✅ Connection closed\n",
      "\n",
      "📊 Analysis Results:\n",
      "   CustomerName  OrderCount  TotalSpent\n",
      "0     Henry Bui           2      2550.0\n",
      "1  Alice Nguyen           5      1705.0\n",
      "2     Eva Hoang           2      1212.0\n",
      "3      Frank Vu           1       700.0\n",
      "4    Grace Phan           2       380.0\n"
     ]
    }
   ],
   "source": [
    "# ✅ GOOD: Robust error handling\n",
    "def robust_analysis_example():\n",
    "    conn = None\n",
    "    try:\n",
    "        # Connect to database\n",
    "        conn = connect_to_database('ShopDB')\n",
    "        print(\"✅ Connected to database\")\n",
    "        \n",
    "        # Execute query with potential issues\n",
    "        query = \"\"\"\n",
    "        SELECT \n",
    "            c.CustomerName,\n",
    "            COUNT(o.OrderID) as OrderCount,\n",
    "            COALESCE(SUM(p.Price * od.Quantity), 0) as TotalSpent\n",
    "        FROM Customers c\n",
    "        LEFT JOIN Orders o ON c.CustomerID = o.CustomerID\n",
    "        LEFT JOIN OrderDetails od ON o.OrderID = od.OrderID\n",
    "        LEFT JOIN Products p ON od.ProductID = p.ProductID\n",
    "        GROUP BY c.CustomerID, c.CustomerName\n",
    "        ORDER BY TotalSpent DESC\n",
    "        \"\"\"\n",
    "        \n",
    "        result = pd.read_sql(query, conn)\n",
    "        print(f\"✅ Query executed successfully, {len(result)} rows returned\")\n",
    "        \n",
    "        # Validate data\n",
    "        if result.empty:\n",
    "            print(\"⚠️ Warning: No data returned\")\n",
    "            return None\n",
    "        \n",
    "        # Check for null values\n",
    "        null_counts = result.isnull().sum()\n",
    "        if null_counts.any():\n",
    "            print(f\"⚠️ Warning: Found null values: {null_counts[null_counts > 0].to_dict()}\")\n",
    "        \n",
    "        return result\n",
    "        \n",
    "    except Exception as e:\n",
    "        print(f\"❌ Error occurred: {type(e).__name__}: {e}\")\n",
    "        return None\n",
    "    finally:\n",
    "        if conn:\n",
    "            conn.close()\n",
    "            print(\"✅ Connection closed\")\n",
    "\n",
    "# Test the robust function\n",
    "analysis_result = robust_analysis_example()\n",
    "if analysis_result is not None:\n",
    "    print(\"\\n📊 Analysis Results:\")\n",
    "    print(analysis_result.head())"
   ]
  },
  {
   "cell_type": "markdown",
   "metadata": {},
   "source": [
    "### 6.3 Performance Tips"
   ]
  },
  {
   "cell_type": "code",
   "execution_count": 30,
   "metadata": {},
   "outputs": [
    {
     "name": "stdout",
     "output_type": "stream",
     "text": [
      "[INFO] Connecting to database: ShopDB\n",
      "[INFO] Server: sqlserver:1433\n",
      "[INFO] User: sa\n",
      "[OK] Successfully connected to database: ShopDB\n"
     ]
    },
    {
     "ename": "TypeError",
     "evalue": "'>=' not supported between instances of 'datetime.date' and 'str'",
     "output_type": "error",
     "traceback": [
      "\u001b[0;31m---------------------------------------------------------------------------\u001b[0m",
      "\u001b[0;31mTypeError\u001b[0m                                 Traceback (most recent call last)",
      "Cell \u001b[0;32mIn[30], line 29\u001b[0m\n\u001b[1;32m     25\u001b[0m     \u001b[38;5;28mprint\u001b[39m(\u001b[38;5;124mf\u001b[39m\u001b[38;5;124m\"\u001b[39m\u001b[38;5;130;01m\\n\u001b[39;00m\u001b[38;5;124m✅ Both methods return \u001b[39m\u001b[38;5;132;01m{\u001b[39;00m\u001b[38;5;28mlen\u001b[39m(recent_orders_pandas)\u001b[38;5;132;01m}\u001b[39;00m\u001b[38;5;124m rows\u001b[39m\u001b[38;5;124m\"\u001b[39m)\n\u001b[1;32m     27\u001b[0m     conn\u001b[38;5;241m.\u001b[39mclose()\n\u001b[0;32m---> 29\u001b[0m \u001b[43mperformance_comparison\u001b[49m\u001b[43m(\u001b[49m\u001b[43m)\u001b[49m\n",
      "Cell \u001b[0;32mIn[30], line 10\u001b[0m, in \u001b[0;36mperformance_comparison\u001b[0;34m()\u001b[0m\n\u001b[1;32m      8\u001b[0m start_time \u001b[38;5;241m=\u001b[39m time\u001b[38;5;241m.\u001b[39mtime()\n\u001b[1;32m      9\u001b[0m all_orders \u001b[38;5;241m=\u001b[39m pd\u001b[38;5;241m.\u001b[39mread_sql(\u001b[38;5;124m\"\u001b[39m\u001b[38;5;124mSELECT * FROM Orders\u001b[39m\u001b[38;5;124m\"\u001b[39m, conn)\n\u001b[0;32m---> 10\u001b[0m recent_orders_pandas \u001b[38;5;241m=\u001b[39m all_orders[\u001b[43mall_orders\u001b[49m\u001b[43m[\u001b[49m\u001b[38;5;124;43m'\u001b[39;49m\u001b[38;5;124;43mOrderDate\u001b[39;49m\u001b[38;5;124;43m'\u001b[39;49m\u001b[43m]\u001b[49m\u001b[43m \u001b[49m\u001b[38;5;241;43m>\u001b[39;49m\u001b[38;5;241;43m=\u001b[39;49m\u001b[43m \u001b[49m\u001b[38;5;124;43m'\u001b[39;49m\u001b[38;5;124;43m2024-09-10\u001b[39;49m\u001b[38;5;124;43m'\u001b[39;49m]\n\u001b[1;32m     11\u001b[0m method1_time \u001b[38;5;241m=\u001b[39m time\u001b[38;5;241m.\u001b[39mtime() \u001b[38;5;241m-\u001b[39m start_time\n\u001b[1;32m     13\u001b[0m \u001b[38;5;66;03m# Method 2: Filter in SQL (more efficient)\u001b[39;00m\n",
      "File \u001b[0;32m/opt/conda/lib/python3.11/site-packages/pandas/core/ops/common.py:76\u001b[0m, in \u001b[0;36m_unpack_zerodim_and_defer.<locals>.new_method\u001b[0;34m(self, other)\u001b[0m\n\u001b[1;32m     72\u001b[0m             \u001b[38;5;28;01mreturn\u001b[39;00m \u001b[38;5;28mNotImplemented\u001b[39m\n\u001b[1;32m     74\u001b[0m other \u001b[38;5;241m=\u001b[39m item_from_zerodim(other)\n\u001b[0;32m---> 76\u001b[0m \u001b[38;5;28;01mreturn\u001b[39;00m \u001b[43mmethod\u001b[49m\u001b[43m(\u001b[49m\u001b[38;5;28;43mself\u001b[39;49m\u001b[43m,\u001b[49m\u001b[43m \u001b[49m\u001b[43mother\u001b[49m\u001b[43m)\u001b[49m\n",
      "File \u001b[0;32m/opt/conda/lib/python3.11/site-packages/pandas/core/arraylike.py:60\u001b[0m, in \u001b[0;36mOpsMixin.__ge__\u001b[0;34m(self, other)\u001b[0m\n\u001b[1;32m     58\u001b[0m \u001b[38;5;129m@unpack_zerodim_and_defer\u001b[39m(\u001b[38;5;124m\"\u001b[39m\u001b[38;5;124m__ge__\u001b[39m\u001b[38;5;124m\"\u001b[39m)\n\u001b[1;32m     59\u001b[0m \u001b[38;5;28;01mdef\u001b[39;00m \u001b[38;5;21m__ge__\u001b[39m(\u001b[38;5;28mself\u001b[39m, other):\n\u001b[0;32m---> 60\u001b[0m     \u001b[38;5;28;01mreturn\u001b[39;00m \u001b[38;5;28;43mself\u001b[39;49m\u001b[38;5;241;43m.\u001b[39;49m\u001b[43m_cmp_method\u001b[49m\u001b[43m(\u001b[49m\u001b[43mother\u001b[49m\u001b[43m,\u001b[49m\u001b[43m \u001b[49m\u001b[43moperator\u001b[49m\u001b[38;5;241;43m.\u001b[39;49m\u001b[43mge\u001b[49m\u001b[43m)\u001b[49m\n",
      "File \u001b[0;32m/opt/conda/lib/python3.11/site-packages/pandas/core/series.py:5799\u001b[0m, in \u001b[0;36mSeries._cmp_method\u001b[0;34m(self, other, op)\u001b[0m\n\u001b[1;32m   5796\u001b[0m lvalues \u001b[38;5;241m=\u001b[39m \u001b[38;5;28mself\u001b[39m\u001b[38;5;241m.\u001b[39m_values\n\u001b[1;32m   5797\u001b[0m rvalues \u001b[38;5;241m=\u001b[39m extract_array(other, extract_numpy\u001b[38;5;241m=\u001b[39m\u001b[38;5;28;01mTrue\u001b[39;00m, extract_range\u001b[38;5;241m=\u001b[39m\u001b[38;5;28;01mTrue\u001b[39;00m)\n\u001b[0;32m-> 5799\u001b[0m res_values \u001b[38;5;241m=\u001b[39m \u001b[43mops\u001b[49m\u001b[38;5;241;43m.\u001b[39;49m\u001b[43mcomparison_op\u001b[49m\u001b[43m(\u001b[49m\u001b[43mlvalues\u001b[49m\u001b[43m,\u001b[49m\u001b[43m \u001b[49m\u001b[43mrvalues\u001b[49m\u001b[43m,\u001b[49m\u001b[43m \u001b[49m\u001b[43mop\u001b[49m\u001b[43m)\u001b[49m\n\u001b[1;32m   5801\u001b[0m \u001b[38;5;28;01mreturn\u001b[39;00m \u001b[38;5;28mself\u001b[39m\u001b[38;5;241m.\u001b[39m_construct_result(res_values, name\u001b[38;5;241m=\u001b[39mres_name)\n",
      "File \u001b[0;32m/opt/conda/lib/python3.11/site-packages/pandas/core/ops/array_ops.py:346\u001b[0m, in \u001b[0;36mcomparison_op\u001b[0;34m(left, right, op)\u001b[0m\n\u001b[1;32m    343\u001b[0m     \u001b[38;5;28;01mreturn\u001b[39;00m invalid_comparison(lvalues, rvalues, op)\n\u001b[1;32m    345\u001b[0m \u001b[38;5;28;01melif\u001b[39;00m lvalues\u001b[38;5;241m.\u001b[39mdtype \u001b[38;5;241m==\u001b[39m \u001b[38;5;28mobject\u001b[39m \u001b[38;5;129;01mor\u001b[39;00m \u001b[38;5;28misinstance\u001b[39m(rvalues, \u001b[38;5;28mstr\u001b[39m):\n\u001b[0;32m--> 346\u001b[0m     res_values \u001b[38;5;241m=\u001b[39m \u001b[43mcomp_method_OBJECT_ARRAY\u001b[49m\u001b[43m(\u001b[49m\u001b[43mop\u001b[49m\u001b[43m,\u001b[49m\u001b[43m \u001b[49m\u001b[43mlvalues\u001b[49m\u001b[43m,\u001b[49m\u001b[43m \u001b[49m\u001b[43mrvalues\u001b[49m\u001b[43m)\u001b[49m\n\u001b[1;32m    348\u001b[0m \u001b[38;5;28;01melse\u001b[39;00m:\n\u001b[1;32m    349\u001b[0m     res_values \u001b[38;5;241m=\u001b[39m _na_arithmetic_op(lvalues, rvalues, op, is_cmp\u001b[38;5;241m=\u001b[39m\u001b[38;5;28;01mTrue\u001b[39;00m)\n",
      "File \u001b[0;32m/opt/conda/lib/python3.11/site-packages/pandas/core/ops/array_ops.py:131\u001b[0m, in \u001b[0;36mcomp_method_OBJECT_ARRAY\u001b[0;34m(op, x, y)\u001b[0m\n\u001b[1;32m    129\u001b[0m     result \u001b[38;5;241m=\u001b[39m libops\u001b[38;5;241m.\u001b[39mvec_compare(x\u001b[38;5;241m.\u001b[39mravel(), y\u001b[38;5;241m.\u001b[39mravel(), op)\n\u001b[1;32m    130\u001b[0m \u001b[38;5;28;01melse\u001b[39;00m:\n\u001b[0;32m--> 131\u001b[0m     result \u001b[38;5;241m=\u001b[39m \u001b[43mlibops\u001b[49m\u001b[38;5;241;43m.\u001b[39;49m\u001b[43mscalar_compare\u001b[49m\u001b[43m(\u001b[49m\u001b[43mx\u001b[49m\u001b[38;5;241;43m.\u001b[39;49m\u001b[43mravel\u001b[49m\u001b[43m(\u001b[49m\u001b[43m)\u001b[49m\u001b[43m,\u001b[49m\u001b[43m \u001b[49m\u001b[43my\u001b[49m\u001b[43m,\u001b[49m\u001b[43m \u001b[49m\u001b[43mop\u001b[49m\u001b[43m)\u001b[49m\n\u001b[1;32m    132\u001b[0m \u001b[38;5;28;01mreturn\u001b[39;00m result\u001b[38;5;241m.\u001b[39mreshape(x\u001b[38;5;241m.\u001b[39mshape)\n",
      "File \u001b[0;32mops.pyx:107\u001b[0m, in \u001b[0;36mpandas._libs.ops.scalar_compare\u001b[0;34m()\u001b[0m\n",
      "\u001b[0;31mTypeError\u001b[0m: '>=' not supported between instances of 'datetime.date' and 'str'"
     ]
    }
   ],
   "source": [
    "# ✅ GOOD: Efficient data loading and processing\n",
    "import time\n",
    "\n",
    "def performance_comparison():\n",
    "    conn = connect_to_database('ShopDB')\n",
    "    \n",
    "    # Method 1: Load all data then filter in pandas (less efficient)\n",
    "    start_time = time.time()\n",
    "    all_orders = pd.read_sql(\"SELECT * FROM Orders\", conn)\n",
    "    recent_orders_pandas = all_orders[all_orders['OrderDate'] >= '2024-09-10']\n",
    "    method1_time = time.time() - start_time\n",
    "    \n",
    "    # Method 2: Filter in SQL (more efficient)\n",
    "    start_time = time.time()\n",
    "    recent_orders_sql = pd.read_sql(\n",
    "        \"SELECT * FROM Orders WHERE OrderDate >= '2024-09-10'\", conn\n",
    "    )\n",
    "    method2_time = time.time() - start_time\n",
    "    \n",
    "    print(f\"📊 Performance Comparison:\")\n",
    "    print(f\"   Method 1 (pandas filter): {method1_time:.4f} seconds\")\n",
    "    print(f\"   Method 2 (SQL filter): {method2_time:.4f} seconds\")\n",
    "    print(f\"   SQL filtering is {method1_time/method2_time:.1f}x faster\")\n",
    "    \n",
    "    print(f\"\\n✅ Both methods return {len(recent_orders_pandas)} rows\")\n",
    "    \n",
    "    conn.close()\n",
    "\n",
    "performance_comparison()"
   ]
  },
  {
   "cell_type": "markdown",
   "metadata": {},
   "source": [
    "### 6.4 Data Validation and Quality Checks"
   ]
  },
  {
   "cell_type": "code",
   "execution_count": 31,
   "metadata": {},
   "outputs": [
    {
     "name": "stdout",
     "output_type": "stream",
     "text": [
      "[INFO] Connecting to database: ShopDB\n",
      "[INFO] Server: sqlserver:1433\n",
      "[INFO] User: sa\n",
      "[OK] Successfully connected to database: ShopDB\n",
      "🔍 Data Quality Assessment:\n",
      "========================================\n",
      "📋 Orphan orders (no customer): 0\n",
      "\n",
      "📊 Data Completeness:\n",
      "  table_name  total_rows  null_names  null_cities\n",
      "0  Customers          10           0            0\n",
      "1   Products          10           0            0\n",
      "\n",
      "🔍 Business Logic Checks:\n",
      "            check_type  issue_count\n",
      "0  Negative quantities            0\n",
      "1   Future order dates            0\n",
      "\n",
      "✅ Data quality check passed! No issues found.\n"
     ]
    }
   ],
   "source": [
    "# ✅ GOOD: Data quality validation\n",
    "def data_quality_check():\n",
    "    conn = connect_to_database('ShopDB')\n",
    "    \n",
    "    print(\"🔍 Data Quality Assessment:\")\n",
    "    print(\"=\" * 40)\n",
    "    \n",
    "    # Check 1: Referential integrity\n",
    "    orphan_orders = pd.read_sql(\"\"\"\n",
    "        SELECT COUNT(*) as orphan_count\n",
    "        FROM Orders o\n",
    "        LEFT JOIN Customers c ON o.CustomerID = c.CustomerID\n",
    "        WHERE c.CustomerID IS NULL\n",
    "    \"\"\", conn)\n",
    "    \n",
    "    print(f\"📋 Orphan orders (no customer): {orphan_orders.iloc[0]['orphan_count']}\")\n",
    "    \n",
    "    # Check 2: Data completeness\n",
    "    completeness = pd.read_sql(\"\"\"\n",
    "        SELECT \n",
    "            'Customers' as table_name,\n",
    "            COUNT(*) as total_rows,\n",
    "            SUM(CASE WHEN CustomerName IS NULL THEN 1 ELSE 0 END) as null_names,\n",
    "            SUM(CASE WHEN City IS NULL THEN 1 ELSE 0 END) as null_cities\n",
    "        FROM Customers\n",
    "        UNION ALL\n",
    "        SELECT \n",
    "            'Products' as table_name,\n",
    "            COUNT(*) as total_rows,\n",
    "            SUM(CASE WHEN ProductName IS NULL THEN 1 ELSE 0 END) as null_names,\n",
    "            SUM(CASE WHEN Price IS NULL OR Price <= 0 THEN 1 ELSE 0 END) as invalid_prices\n",
    "        FROM Products\n",
    "    \"\"\", conn)\n",
    "    \n",
    "    print(\"\\n📊 Data Completeness:\")\n",
    "    print(completeness)\n",
    "    \n",
    "    # Check 3: Business logic validation\n",
    "    business_checks = pd.read_sql(\"\"\"\n",
    "        SELECT \n",
    "            'Negative quantities' as check_type,\n",
    "            COUNT(*) as issue_count\n",
    "        FROM OrderDetails\n",
    "        WHERE Quantity <= 0\n",
    "        UNION ALL\n",
    "        SELECT \n",
    "            'Future order dates' as check_type,\n",
    "            COUNT(*) as issue_count\n",
    "        FROM Orders\n",
    "        WHERE OrderDate > GETDATE()\n",
    "    \"\"\", conn)\n",
    "    \n",
    "    print(\"\\n🔍 Business Logic Checks:\")\n",
    "    print(business_checks)\n",
    "    \n",
    "    # Summary\n",
    "    total_issues = (orphan_orders.iloc[0]['orphan_count'] + \n",
    "                   completeness['null_names'].sum() + \n",
    "                   business_checks['issue_count'].sum())\n",
    "    \n",
    "    if total_issues == 0:\n",
    "        print(\"\\n✅ Data quality check passed! No issues found.\")\n",
    "    else:\n",
    "        print(f\"\\n⚠️ Found {total_issues} data quality issues that need attention.\")\n",
    "    \n",
    "    conn.close()\n",
    "\n",
    "data_quality_check()"
   ]
  },
  {
   "cell_type": "markdown",
   "metadata": {},
   "source": [
    "---\n",
    "\n",
    "## 7. Summary and Next Steps\n",
    "\n",
    "### What We've Learned\n",
    "\n",
    "In this comprehensive tutorial, we've covered:\n",
    "\n",
    "1. **Database Connection**: How to safely connect to SQL Server using Python\n",
    "2. **Basic Analysis**: Simple queries, filtering, and data exploration\n",
    "3. **Intermediate Analysis**: JOINs, aggregations, and grouping operations\n",
    "4. **Advanced Analysis**: Complex multi-table queries, RFM analysis, and customer segmentation\n",
    "5. **Data Visualization**: Creating meaningful charts and graphs\n",
    "6. **Best Practices**: Error handling, performance optimization, and data quality checks\n",
    "\n",
    "### Key Takeaways\n",
    "\n",
    "- **Always close database connections** to prevent resource leaks\n",
    "- **Filter data in SQL** rather than pandas for better performance\n",
    "- **Use proper error handling** to make your analysis robust\n",
    "- **Validate your data** before drawing conclusions\n",
    "- **Visualize results** to make insights more accessible\n",
    "\n",
    "### Next Steps\n",
    "\n",
    "To continue your data analysis journey:\n",
    "\n",
    "1. **Practice with your own data**: Apply these techniques to your own databases\n",
    "2. **Learn more SQL**: Explore window functions, CTEs, and advanced SQL features\n",
    "3. **Advanced visualizations**: Try plotly, bokeh, or other interactive visualization libraries\n",
    "4. **Machine Learning**: Use scikit-learn to build predictive models on your data\n",
    "5. **Automation**: Create scheduled reports and dashboards\n",
    "\n",
    "### Resources\n",
    "\n",
    "- [Pandas Documentation](https://pandas.pydata.org/docs/)\n",
    "- [Matplotlib Gallery](https://matplotlib.org/stable/gallery/)\n",
    "- [SQL Server Documentation](https://docs.microsoft.com/en-us/sql/)\n",
    "- [Seaborn Tutorial](https://seaborn.pydata.org/tutorial.html)\n",
    "\n",
    "---\n",
    "\n",
    "**Happy analyzing! 📊🚀**"
   ]
  },
  {
   "cell_type": "code",
   "execution_count": null,
   "metadata": {},
   "outputs": [],
   "source": []
  },
  {
   "cell_type": "code",
   "execution_count": null,
   "metadata": {},
   "outputs": [],
   "source": []
  }
 ],
 "metadata": {
  "kernelspec": {
   "display_name": "Python 3 (ipykernel)",
   "language": "python",
   "name": "python3"
  },
  "language_info": {
   "codemirror_mode": {
    "name": "ipython",
    "version": 3
   },
   "file_extension": ".py",
   "mimetype": "text/x-python",
   "name": "python",
   "nbconvert_exporter": "python",
   "pygments_lexer": "ipython3",
   "version": "3.11.6"
  }
 },
 "nbformat": 4,
 "nbformat_minor": 4
}
