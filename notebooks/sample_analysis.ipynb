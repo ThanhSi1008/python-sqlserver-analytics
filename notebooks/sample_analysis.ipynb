{
 "cells": [
  {
   "cell_type": "markdown",
   "metadata": {},
   "source": [
    "# Sample Data Analysis with SQL Server\n",
    "\n",
    "This notebook demonstrates how to connect to SQL Server and perform data analysis using pandas."
   ]
  },
  {
   "cell_type": "code",
   "execution_count": null,
   "metadata": {},
   "outputs": [],
   "source": [
    "# Import required libraries\n",
    "import sys\n",
    "sys.path.append('/app')\n",
    "\n",
    "import pandas as pd\n",
    "import matplotlib.pyplot as plt\n",
    "import seaborn as sns\n",
    "from db_connection import get_db_connection\n",
    "\n",
    "# Set up plotting\n",
    "plt.style.use('default')\n",
    "sns.set_palette(\"husl\")\n",
    "%matplotlib inline"
   ]
  },
  {
   "cell_type": "code",
   "execution_count": null,
   "metadata": {},
   "outputs": [],
   "source": [
    "# Connect to database\n",
    "db = get_db_connection()\n",
    "print(\"✅ Connected to SQL Server!\")"
   ]
  },
  {
   "cell_type": "code",
   "execution_count": null,
   "metadata": {},
   "outputs": [],
   "source": [
    "# Load data into DataFrames\n",
    "customers = db.query_to_dataframe(\"SELECT * FROM Customers\")\n",
    "products = db.query_to_dataframe(\"SELECT * FROM Products\")\n",
    "orders = db.query_to_dataframe(\"SELECT * FROM Orders\")\n",
    "order_details = db.query_to_dataframe(\"SELECT * FROM OrderDetails\")\n",
    "\n",
    "print(\"Data loaded successfully!\")\n",
    "print(f\"Customers: {len(customers)} rows\")\n",
    "print(f\"Products: {len(products)} rows\")\n",
    "print(f\"Orders: {len(orders)} rows\")\n",
    "print(f\"Order Details: {len(order_details)} rows\")"
   ]
  },
  {
   "cell_type": "code",
   "execution_count": null,
   "metadata": {},
   "outputs": [],
   "source": [
    "# Display sample data\n",
    "print(\"Sample Customers:\")\n",
    "display(customers.head())\n",
    "\n",
    "print(\"\\nSample Products:\")\n",
    "display(products.head())"
   ]
  },
  {
   "cell_type": "code",
   "execution_count": null,
   "metadata": {},
   "outputs": [],
   "source": [
    "# Perform analysis: Sales by product\n",
    "sales_query = \"\"\"\n",
    "SELECT \n",
    "    p.ProductName,\n",
    "    p.Category,\n",
    "    p.Price,\n",
    "    SUM(od.Quantity) as TotalQuantity,\n",
    "    SUM(od.Quantity * p.Price) as TotalRevenue\n",
    "FROM Products p\n",
    "JOIN OrderDetails od ON p.ProductID = od.ProductID\n",
    "GROUP BY p.ProductID, p.ProductName, p.Category, p.Price\n",
    "ORDER BY TotalRevenue DESC\n",
    "\"\"\"\n",
    "\n",
    "sales_data = db.query_to_dataframe(sales_query)\n",
    "display(sales_data)"
   ]
  },
  {
   "cell_type": "code",
   "execution_count": null,
   "metadata": {},
   "outputs": [],
   "source": [
    "# Visualization: Revenue by product\n",
    "plt.figure(figsize=(12, 6))\n",
    "plt.subplot(1, 2, 1)\n",
    "sns.barplot(data=sales_data, x='TotalRevenue', y='ProductName')\n",
    "plt.title('Revenue by Product')\n",
    "plt.xlabel('Total Revenue ($)')\n",
    "\n",
    "plt.subplot(1, 2, 2)\n",
    "category_revenue = sales_data.groupby('Category')['TotalRevenue'].sum()\n",
    "plt.pie(category_revenue.values, labels=category_revenue.index, autopct='%1.1f%%')\n",
    "plt.title('Revenue by Category')\n",
    "\n",
    "plt.tight_layout()\n",
    "plt.show()"
   ]
  },
  {
   "cell_type": "code",
   "execution_count": null,
   "metadata": {},
   "outputs": [],
   "source": [
    "# Customer analysis\n",
    "customer_orders_query = \"\"\"\n",
    "SELECT \n",
    "    c.CustomerName,\n",
    "    c.City,\n",
    "    COUNT(o.OrderID) as OrderCount,\n",
    "    SUM(od.Quantity * p.Price) as TotalSpent\n",
    "FROM Customers c\n",
    "LEFT JOIN Orders o ON c.CustomerID = o.CustomerID\n",
    "LEFT JOIN OrderDetails od ON o.OrderID = od.OrderID\n",
    "LEFT JOIN Products p ON od.ProductID = p.ProductID\n",
    "GROUP BY c.CustomerID, c.CustomerName, c.City\n",
    "ORDER BY TotalSpent DESC\n",
    "\"\"\"\n",
    "\n",
    "customer_analysis = db.query_to_dataframe(customer_orders_query)\n",
    "display(customer_analysis)"
   ]
  },
  {
   "cell_type": "code",
   "execution_count": null,
   "metadata": {},
   "outputs": [],
   "source": [
    "# Close database connection\n",
    "db.close()\n",
    "print(\"🔌 Database connection closed\")"
   ]
  }
 ],
 "metadata": {
  "kernelspec": {
   "display_name": "Python 3",
   "language": "python",
   "name": "python3"
  },
  "language_info": {
   "codemirror_mode": {
    "name": "ipython",
    "version": 3
   },
   "file_extension": ".py",
   "mimetype": "text/x-python",
   "name": "python",
   "nbconvert_exporter": "python",
   "pygments_lexer": "ipython3",
   "version": "3.11.0"
  }
 },
 "nbformat": 4,
 "nbformat_minor": 4
}
