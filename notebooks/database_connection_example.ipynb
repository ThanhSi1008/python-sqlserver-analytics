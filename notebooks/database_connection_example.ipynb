{
 "cells": [
  {
   "cell_type": "markdown",
   "metadata": {},
   "source": [
    "# Database Connection Example\n",
    "\n",
    "This notebook demonstrates how to use the `db_connection` module to connect to SQL Server databases.\n",
    "\n",
    "## Prerequisites\n",
    "- SQL Server must be running (via docker-compose)\n",
    "- Database must exist (create using Azure Data Studio)\n",
    "- Environment variables must be configured in .env file"
   ]
  },
  {
   "cell_type": "markdown",
   "metadata": {},
   "source": [
    "## Import Required Libraries"
   ]
  },
  {
   "cell_type": "code",
   "execution_count": 1,
   "metadata": {},
   "outputs": [
    {
     "name": "stdout",
     "output_type": "stream",
     "text": [
      "Successfully imported all required modules!\n",
      "Python version: 3.11.6 | packaged by conda-forge | (main, Oct  3 2023, 11:57:02) [GCC 12.3.0]\n"
     ]
    }
   ],
   "source": [
    "# Import the database connection module\n",
    "from db_connection import connect_to_database\n",
    "import pandas as pd\n",
    "import sys\n",
    "\n",
    "print(\"Successfully imported all required modules!\")\n",
    "print(f\"Python version: {sys.version}\")"
   ]
  },
  {
   "cell_type": "markdown",
   "metadata": {},
   "source": [
    "## Test Database Connection"
   ]
  },
  {
   "cell_type": "code",
   "execution_count": 2,
   "metadata": {},
   "outputs": [
    {
     "name": "stdout",
     "output_type": "stream",
     "text": [
      "[INFO] Connecting to database: ShopDB\n",
      "[INFO] Server: sqlserver:1433\n",
      "[INFO] User: sa\n",
      "[ERROR] Login failed - check username/password\n",
      "Connection failed: Unable to connect to database 'ShopDB': (18456, b\"Login failed for user 'sa'.DB-Lib error message 20018, severity 14:\\nGeneral SQL Server error: Check messages from the SQL Server\\nDB-Lib error message 20002, severity 9:\\nAdaptive Server connection failed (sqlserver)\\nDB-Lib error message 20002, severity 9:\\nAdaptive Server connection failed (sqlserver)\\n\")\n",
      "\n",
      "To create a database, use Azure Data Studio:\n",
      "   CREATE DATABASE ShopDB;\n"
     ]
    }
   ],
   "source": [
    "# Test connection to a database\n",
    "database_name = 'ShopDB'  # Change this to your database name\n",
    "\n",
    "try:\n",
    "    # Connect to database\n",
    "    conn = connect_to_database(database_name)\n",
    "    print(f\"Successfully connected to {database_name}!\")\n",
    "    \n",
    "    # Close connection\n",
    "    conn.close()\n",
    "    print(\"Connection closed successfully!\")\n",
    "    \n",
    "except Exception as e:\n",
    "    print(f\"Connection failed: {e}\")\n",
    "    print(\"\\nTo create a database, use Azure Data Studio:\")\n",
    "    print(f\"   CREATE DATABASE {database_name};\")"
   ]
  },
  {
   "cell_type": "markdown",
   "metadata": {},
   "source": [
    "## Query Database with Pandas"
   ]
  },
  {
   "cell_type": "code",
   "execution_count": 3,
   "metadata": {},
   "outputs": [
    {
     "name": "stdout",
     "output_type": "stream",
     "text": [
      "[INFO] Connecting to database: master\n",
      "[INFO] Server: sqlserver:1433\n",
      "[INFO] User: sa\n",
      "[OK] Successfully connected to database: master\n",
      "User Databases:\n",
      "     name  database_id             create_date\n",
      "0  ShopDB            5 2025-10-02 01:03:48.207\n"
     ]
    },
    {
     "name": "stderr",
     "output_type": "stream",
     "text": [
      "/tmp/ipykernel_117/4046238086.py:12: UserWarning: pandas only supports SQLAlchemy connectable (engine/connection) or database string URI or sqlite3 DBAPI2 connection. Other DBAPI2 objects are not tested. Please consider using SQLAlchemy.\n",
      "  df = pd.read_sql(query, conn)\n"
     ]
    }
   ],
   "source": [
    "# Example: Read system tables (works with any database)\n",
    "database_name = 'master'  # Use master database for system queries\n",
    "\n",
    "try:\n",
    "    # Connect to database\n",
    "    conn = connect_to_database(database_name)\n",
    "    \n",
    "    # Query system information\n",
    "    query = \"SELECT name, database_id, create_date FROM sys.databases WHERE name NOT IN ('master', 'tempdb', 'model', 'msdb')\"\n",
    "    \n",
    "    # Read data into DataFrame\n",
    "    df = pd.read_sql(query, conn)\n",
    "    \n",
    "    print(\"User Databases:\")\n",
    "    print(df)\n",
    "    \n",
    "    # Close connection\n",
    "    conn.close()\n",
    "    \n",
    "except Exception as e:\n",
    "    print(f\"Query failed: {e}\")"
   ]
  },
  {
   "cell_type": "markdown",
   "metadata": {},
   "source": [
    "## Connect to Multiple Databases"
   ]
  },
  {
   "cell_type": "code",
   "execution_count": 4,
   "metadata": {},
   "outputs": [
    {
     "name": "stdout",
     "output_type": "stream",
     "text": [
      "[INFO] Connecting to database: ShopDB\n",
      "[INFO] Server: sqlserver:1433\n",
      "[INFO] User: sa\n",
      "[OK] Successfully connected to database: ShopDB\n",
      "ShopDB: Connection successful!\n",
      "[INFO] Connecting to database: StudentDB\n",
      "[INFO] Server: sqlserver:1433\n",
      "[INFO] User: sa\n",
      "[ERROR] Connection error: (18456, b'DB-Lib error message 20018, severity 11:\\nGeneral SQL Server error: Check messages from the SQL Server\\nDB-Lib error message 20018, severity 14:\\nGeneral SQL Server error: Check messages from the SQL Server\\nDB-Lib error message 20002, severity 9:\\nAdaptive Server connection failed (sqlserver)\\nDB-Lib error message 20002, severity 9:\\nAdaptive Server connection failed (sqlserver)\\n')\n",
      "StudentDB: Unable to connect to database 'StudentDB': (18456, b'DB-Lib error message 20018, severity 11:\\nGeneral SQL Server error: Check messages from the SQL Server\\nDB-Lib error message 20018, severity 14:\\nGeneral SQL Server error: Check messages from the SQL Server\\nDB-Lib error message 20002, severity 9:\\nAdaptive Server connection failed (sqlserver)\\nDB-Lib error message 20002, severity 9:\\nAdaptive Server connection failed (sqlserver)\\n')\n",
      "[INFO] Connecting to database: TestDB\n",
      "[INFO] Server: sqlserver:1433\n",
      "[INFO] User: sa\n",
      "[ERROR] Connection error: (18456, b'DB-Lib error message 20018, severity 11:\\nGeneral SQL Server error: Check messages from the SQL Server\\nDB-Lib error message 20018, severity 14:\\nGeneral SQL Server error: Check messages from the SQL Server\\nDB-Lib error message 20002, severity 9:\\nAdaptive Server connection failed (sqlserver)\\nDB-Lib error message 20002, severity 9:\\nAdaptive Server connection failed (sqlserver)\\n')\n",
      "TestDB: Unable to connect to database 'TestDB': (18456, b'DB-Lib error message 20018, severity 11:\\nGeneral SQL Server error: Check messages from the SQL Server\\nDB-Lib error message 20018, severity 14:\\nGeneral SQL Server error: Check messages from the SQL Server\\nDB-Lib error message 20002, severity 9:\\nAdaptive Server connection failed (sqlserver)\\nDB-Lib error message 20002, severity 9:\\nAdaptive Server connection failed (sqlserver)\\n')\n"
     ]
    }
   ],
   "source": [
    "# Example: Connect to multiple databases\n",
    "databases = ['ShopDB', 'StudentDB', 'TestDB']\n",
    "\n",
    "for db_name in databases:\n",
    "    try:\n",
    "        conn = connect_to_database(db_name)\n",
    "        print(f\"{db_name}: Connection successful!\")\n",
    "        conn.close()\n",
    "    except Exception as e:\n",
    "        print(f\"{db_name}: {e}\")"
   ]
  },
  {
   "cell_type": "markdown",
   "metadata": {},
   "source": [
    "## Custom Query Example"
   ]
  },
  {
   "cell_type": "code",
   "execution_count": 5,
   "metadata": {},
   "outputs": [
    {
     "name": "stdout",
     "output_type": "stream",
     "text": [
      "[INFO] Connecting to database: YourDatabase\n",
      "[INFO] Server: sqlserver:1433\n",
      "[INFO] User: sa\n",
      "[ERROR] Connection error: (18456, b'DB-Lib error message 20018, severity 11:\\nGeneral SQL Server error: Check messages from the SQL Server\\nDB-Lib error message 20018, severity 14:\\nGeneral SQL Server error: Check messages from the SQL Server\\nDB-Lib error message 20002, severity 9:\\nAdaptive Server connection failed (sqlserver)\\nDB-Lib error message 20002, severity 9:\\nAdaptive Server connection failed (sqlserver)\\n')\n",
      "Query failed: Unable to connect to database 'YourDatabase': (18456, b'DB-Lib error message 20018, severity 11:\\nGeneral SQL Server error: Check messages from the SQL Server\\nDB-Lib error message 20018, severity 14:\\nGeneral SQL Server error: Check messages from the SQL Server\\nDB-Lib error message 20002, severity 9:\\nAdaptive Server connection failed (sqlserver)\\nDB-Lib error message 20002, severity 9:\\nAdaptive Server connection failed (sqlserver)\\n')\n",
      "\n",
      "Make sure to:\n",
      "   1. Create the database first\n",
      "   2. Create tables with data\n",
      "   3. Update database_name and table_name variables\n"
     ]
    }
   ],
   "source": [
    "# Example: Custom query (replace with your database and table)\n",
    "database_name = 'YourDatabase'  # Change this\n",
    "table_name = 'YourTable'        # Change this\n",
    "\n",
    "try:\n",
    "    conn = connect_to_database(database_name)\n",
    "    \n",
    "    # Custom query\n",
    "    query = f\"SELECT TOP 10 * FROM {table_name}\"\n",
    "    \n",
    "    # Read data\n",
    "    df = pd.read_sql(query, conn)\n",
    "    \n",
    "    print(f\"Data from {database_name}.{table_name}:\")\n",
    "    print(df.head())\n",
    "    print(f\"\\nShape: {df.shape}\")\n",
    "    \n",
    "    conn.close()\n",
    "    \n",
    "except Exception as e:\n",
    "    print(f\"Query failed: {e}\")\n",
    "    print(\"\\nMake sure to:\")\n",
    "    print(\"   1. Create the database first\")\n",
    "    print(\"   2. Create tables with data\")\n",
    "    print(\"   3. Update database_name and table_name variables\")"
   ]
  },
  {
   "cell_type": "markdown",
   "metadata": {},
   "source": [
    "## Notes\n",
    "\n",
    "- **READ-ONLY**: This module is designed for reading data only\n",
    "- **Database Creation**: Use Azure Data Studio to create databases\n",
    "- **Environment**: Database connection settings are in the .env file\n",
    "- **Error Handling**: The module provides helpful error messages\n",
    "\n",
    "## Next Steps\n",
    "\n",
    "1. Create your databases using Azure Data Studio\n",
    "2. Modify the database names in the examples above\n",
    "3. Start analyzing your data with pandas!"
   ]
  },
  {
   "cell_type": "code",
   "execution_count": null,
   "metadata": {},
   "outputs": [],
   "source": []
  }
 ],
 "metadata": {
  "kernelspec": {
   "display_name": "Python 3 (ipykernel)",
   "language": "python",
   "name": "python3"
  },
  "language_info": {
   "codemirror_mode": {
    "name": "ipython",
    "version": 3
   },
   "file_extension": ".py",
   "mimetype": "text/x-python",
   "name": "python",
   "nbconvert_exporter": "python",
   "pygments_lexer": "ipython3",
   "version": "3.11.6"
  }
 },
 "nbformat": 4,
 "nbformat_minor": 4
}
